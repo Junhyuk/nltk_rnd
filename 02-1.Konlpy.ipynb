{
 "cells": [
  {
   "cell_type": "markdown",
   "metadata": {},
   "source": [
    "<br></br>\n",
    "# **Konlpy - 한글**\n",
    "\n",
    "## **1 Tagging**"
   ]
  },
  {
   "cell_type": "code",
   "execution_count": null,
   "metadata": {},
   "outputs": [],
   "source": [
    "from konlpy.tag import Twitter\n",
    "twitter = Twitter()\n",
    "twitter.pos('서울R&D캠퍼스 수업자료')"
   ]
  },
  {
   "cell_type": "code",
   "execution_count": null,
   "metadata": {},
   "outputs": [],
   "source": [
    "text = \"워런 버핏은 삼성전자가 아닌 애플주식을 왜 샀을까\""
   ]
  },
  {
   "cell_type": "code",
   "execution_count": null,
   "metadata": {},
   "outputs": [],
   "source": [
    "%%time\n",
    "print(twitter.pos(text, stem=True))"
   ]
  },
  {
   "cell_type": "code",
   "execution_count": null,
   "metadata": {},
   "outputs": [],
   "source": [
    "%%time\n",
    "print(twitter.pos(text))"
   ]
  },
  {
   "cell_type": "code",
   "execution_count": null,
   "metadata": {},
   "outputs": [],
   "source": [
    "%%time\n",
    "from konlpy.tag import Kkma\n",
    "kkma = Kkma()\n",
    "print(kkma.pos(text))"
   ]
  },
  {
   "cell_type": "code",
   "execution_count": null,
   "metadata": {},
   "outputs": [],
   "source": [
    "%%time\n",
    "from konlpy.tag import Hannanum\n",
    "han = Hannanum()\n",
    "print(han.pos(text))"
   ]
  },
  {
   "cell_type": "markdown",
   "metadata": {},
   "source": [
    "<br></br>\n",
    "# **Word Cloud - 말뭉치 응용**\n",
    "\n",
    "## **1 Word Cloud**"
   ]
  },
  {
   "cell_type": "code",
   "execution_count": null,
   "metadata": {},
   "outputs": [],
   "source": [
    "f     = open('./data/kr-Report_2018.txt', 'r', encoding='utf-8')\n",
    "texts = f.read()\n",
    "f.close()\n",
    "texts[:100]"
   ]
  },
  {
   "cell_type": "code",
   "execution_count": null,
   "metadata": {},
   "outputs": [],
   "source": [
    "%matplotlib inline\n",
    "from wordcloud import WordCloud\n",
    "wcloud = WordCloud('./data/D2Coding.ttf',relative_scaling = 0.2).generate(texts)\n",
    "\n",
    "import matplotlib.pyplot as plt\n",
    "plt.figure(figsize=(12,12))\n",
    "plt.imshow(wcloud, interpolation='bilinear')\n",
    "plt.axis(\"off\")"
   ]
  },
  {
   "cell_type": "markdown",
   "metadata": {},
   "source": [
    "<br></br>\n",
    "## **2 명사만 추출**"
   ]
  },
  {
   "cell_type": "code",
   "execution_count": null,
   "metadata": {},
   "outputs": [],
   "source": [
    "from konlpy.tag import Twitter\n",
    "twitter = Twitter()\n",
    "twitter.nouns('지속가능경영을 삼성전자에서')"
   ]
  },
  {
   "cell_type": "code",
   "execution_count": null,
   "metadata": {},
   "outputs": [],
   "source": [
    "def txt_to_nouns(texts):\n",
    "    import re\n",
    "    texts  = texts.replace('\\n', ' ')\n",
    "    hangul = re.compile(r'[^ 가-힣]+') # 한글과 띄어쓰기를 제외한 모든 글자 추출\n",
    "    result = hangul.sub('', texts)    # 추출한 내용을 '' 로 치환한다\n",
    "\n",
    "    from nltk.tokenize import word_tokenize\n",
    "    tokens = word_tokenize(result)\n",
    "\n",
    "    from konlpy.tag import Twitter\n",
    "    twitter, result = Twitter(), []\n",
    "\n",
    "    for token in tokens:\n",
    "        temp = twitter.nouns(token)\n",
    "        if len(\"\".join(temp)) > 1: \n",
    "            result.append(\"\".join(temp))\n",
    "    return \" \".join(result)"
   ]
  },
  {
   "cell_type": "code",
   "execution_count": null,
   "metadata": {},
   "outputs": [],
   "source": [
    "txt_to_nouns('지속가능경영을 삼성전자에서 갤럭시(Galaxy)노트9')"
   ]
  },
  {
   "cell_type": "code",
   "execution_count": null,
   "metadata": {},
   "outputs": [],
   "source": [
    "%matplotlib inline\n",
    "from wordcloud import WordCloud\n",
    "text_noun = txt_to_nouns(texts)\n",
    "wcloud    = WordCloud('./data/D2Coding.ttf',relative_scaling = 0.2).generate(text_noun)\n",
    "\n",
    "import matplotlib.pyplot as plt\n",
    "plt.figure(figsize=(12,12))\n",
    "plt.imshow(wcloud, interpolation='bilinear')\n",
    "plt.axis(\"off\")"
   ]
  },
  {
   "cell_type": "code",
   "execution_count": null,
   "metadata": {},
   "outputs": [],
   "source": [
    "# 명사추출 후 Token 빈도결과값\n",
    "from nltk import FreqDist\n",
    "from nltk.tokenize import word_tokenize\n",
    "import pandas as pd\n",
    "freqtxt = pd.Series(dict(FreqDist(word_tokenize(text_noun)))).sort_values(ascending=False)\n",
    "freqtxt[:20]"
   ]
  }
 ],
 "metadata": {
  "kernelspec": {
   "display_name": "Python 3",
   "language": "python",
   "name": "python3"
  },
  "language_info": {
   "codemirror_mode": {
    "name": "ipython",
    "version": 3
   },
   "file_extension": ".py",
   "mimetype": "text/x-python",
   "name": "python",
   "nbconvert_exporter": "python",
   "pygments_lexer": "ipython3",
   "version": "3.6.3"
  }
 },
 "nbformat": 4,
 "nbformat_minor": 2
}
