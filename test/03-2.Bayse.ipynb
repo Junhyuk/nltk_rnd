{
 "cells": [
  {
   "cell_type": "markdown",
   "metadata": {},
   "source": [
    "<br></br>\n",
    "# **나이브베이즈 한글 적용**\n",
    "nltk를 활용한 네이버 영화리뷰 평가모델 [nltk book](https://www.nltk.org/book/ch06.html) | [nltk How to](http://www.nltk.org/howto/classify.html)\n",
    "1. 0 : 부정적인 리뷰\n",
    "1. 1 : 긍정적인 리뷰"
   ]
  },
  {
   "cell_type": "markdown",
   "metadata": {},
   "source": [
    "<br></br>\n",
    "## **1 NAVER 영화리뷰 데이터 전처리**\n",
    "1. https://github.com/e9t/nsmc\n",
    "1. https://www.nltk.org/book/ch06.html"
   ]
  },
  {
   "cell_type": "code",
   "execution_count": 1,
   "metadata": {},
   "outputs": [
    {
     "name": "stdout",
     "output_type": "stream",
     "text": [
      "id\tdocument\tlabel\r\n",
      "6270596\t굳 ㅋ\t1\r\n",
      "9274899\tGDNTOPCLASSINTHECLUB\t0\r\n",
      "8544678\t뭐야 이 평점들은.... 나쁘진 않지만 10점 짜리는 더더욱 아니잖아\t0\r\n",
      "6825595\t지루하지는 않은데 완전 막장임... 돈주고 보기에는....\t0\r\n",
      "6723715\t3D만 아니었어도 별 다섯 개 줬을텐데.. 왜 3D로 나와서 제 심기를 불편하게 하죠??\t0\r\n",
      "7898805\t음악이 주가 된, 최고의 음악영화\t1\r\n",
      "6315043\t진정한 쓰레기\t0\r\n",
      "6097171\t마치 미국애니에서 튀어나온듯한 창의력없는 로봇디자인부터가,고개를 젖게한다\t0\r\n",
      "8932678\t갈수록 개판되가는 중국영화 유치하고 내용없음 폼잡다 끝남 말도안되는 무기에 유치한cg남무 아 그립다 동사서독같은 영화가 이건 3류아류작이다\t0\r\n",
      "cat: 쓰기 오류: 파이프가 깨어짐\r\n"
     ]
    }
   ],
   "source": [
    "! cat ./data/ratings_test.txt | head -n 10"
   ]
  },
  {
   "cell_type": "code",
   "execution_count": 2,
   "metadata": {},
   "outputs": [
    {
     "name": "stdout",
     "output_type": "stream",
     "text": [
      "Train_data (3000)\n",
      "sample : [['10125128', '초반부는 그럴듯한데, 끝까지 보면 시간 아까울 거야', '0'], ['6663312', '당신이 영화감독이라고 치고 자신의 의식과 무의식간(꿈)의 관계의 대립과 갈등, 화해 등의 과정을 영화속에 담아봐. 그 영화는 어때? 김기덕의 경우는 해피엔딩인듯', '1'], ['4776867', '여성의 심리까지 통달한 프로이드가 울고갈 심리의 신!', '1']]\n",
      "Test_data  (1000)\n",
      "sample : [['3491296', '엘렌페이지 땜 봤는데 재밌었어요, 대사도 유쾌하고 아 미사랑은 상관없답니다 ㅋㅋ', '1'], ['9683776', '허달프, 보드라미 쭈누님, 쿡테러리스트 김풍,우완전 재밌다는 삼국지도 아니고 ㅋ 자취요리 춘추전국시대', '1'], ['3088613', '요즘 시대에 이런 영화가 그립다', '1']]\n"
     ]
    }
   ],
   "source": [
    "def read_data(filename):\n",
    "    with open(filename, 'r') as f:\n",
    "        data = [line.split('\\t') for line in f.read().splitlines()]\n",
    "        data = data[1:]   # header 제외\n",
    "        \n",
    "    from random import randint\n",
    "    random_data = [data[randint(1, len(data))]  for no in range(int(len(data)/50)) ]\n",
    "    return random_data\n",
    "\n",
    "train_data = read_data('./data/ratings_train.txt')\n",
    "test_data  = read_data('./data/ratings_test.txt')\n",
    "print('Train_data ({})\\nsample : {}\\nTest_data  ({})\\nsample : {}'.format(\n",
    "    len(train_data), train_data[:3],\n",
    "    len(test_data),  test_data[:3]))"
   ]
  },
  {
   "cell_type": "code",
   "execution_count": 3,
   "metadata": {},
   "outputs": [
    {
     "name": "stdout",
     "output_type": "stream",
     "text": [
      "[(['초반/Noun',\n",
      "   '불다/Verb',\n",
      "   '그럴듯하다/Adjective',\n",
      "   ',/Punctuation',\n",
      "   '끝/Noun',\n",
      "   '까지/Josa',\n",
      "   '보다/Verb',\n",
      "   '시간/Noun',\n",
      "   '아깝다/Adjective'],\n",
      "  '0'),\n",
      " (['당신/Noun',\n",
      "   '이/Josa',\n",
      "   '영화감독/Noun',\n",
      "   '이라고/Josa',\n",
      "   '치고/Josa',\n",
      "   '자신/Noun',\n",
      "   '의/Josa',\n",
      "   '의식/Noun',\n",
      "   '과/Josa',\n",
      "   '무의식/Noun',\n",
      "   '간/Suffix',\n",
      "   '(/Punctuation',\n",
      "   '꿈/Noun',\n",
      "   ')/Punctuation',\n",
      "   '의/Noun',\n",
      "   '관계/Noun',\n",
      "   '의/Josa',\n",
      "   '대립/Noun',\n",
      "   '과/Josa',\n",
      "   '갈등/Noun',\n",
      "   ',/Punctuation',\n",
      "   '화해/Noun',\n",
      "   '등/Noun',\n",
      "   '의/Josa',\n",
      "   '과정/Noun',\n",
      "   '을/Josa',\n",
      "   '영화/Noun',\n",
      "   '속/Noun',\n",
      "   '에/Josa',\n",
      "   '담다/Verb',\n",
      "   '봐/Noun',\n",
      "   './Punctuation',\n",
      "   '그/Noun',\n",
      "   '영화/Noun',\n",
      "   '는/Josa',\n",
      "   '어떻다/Adjective',\n",
      "   '?/Punctuation',\n",
      "   '김기덕/Noun',\n",
      "   '의/Josa',\n",
      "   '경우/Noun',\n",
      "   '는/Josa',\n",
      "   '해피엔딩/Noun',\n",
      "   '인/Josa',\n",
      "   '듯/Noun'],\n",
      "  '1')]\n",
      "CPU times: user 14.7 s, sys: 208 ms, total: 14.9 s\n",
      "Wall time: 6.93 s\n"
     ]
    }
   ],
   "source": [
    "%%time\n",
    "from konlpy.tag import Twitter\n",
    "twitter = Twitter()\n",
    "\n",
    "def tokenize(doc):\n",
    "    result = ['/'.join(t) for t in twitter.pos(doc, norm=True, stem=True)]\n",
    "    return result \n",
    "\n",
    "train_docs = [(tokenize(row[1]), row[2])    for row in train_data]\n",
    "test_docs  = [(tokenize(row[1]), row[2])    for row in test_data]\n",
    "\n",
    "from pprint import pprint\n",
    "pprint(train_docs[:2])"
   ]
  },
  {
   "cell_type": "code",
   "execution_count": 4,
   "metadata": {},
   "outputs": [
    {
     "name": "stdout",
     "output_type": "stream",
     "text": [
      "Token Total :44777\n",
      "Sample : ['초반/Noun', '불다/Verb', '그럴듯하다/Adjective', ',/Punctuation', '끝/Noun']\n"
     ]
    }
   ],
   "source": [
    "tokens = [t   for d in train_docs \n",
    "              for t in d[0]]\n",
    "print(\"Token Total :{}\\nSample : {}\".format(\n",
    "    len(tokens), tokens[:5]))"
   ]
  },
  {
   "cell_type": "markdown",
   "metadata": {},
   "source": [
    "<br></br>\n",
    "## **2 nltk 를 활용하여 연산모델 만들기**\n",
    "https://github.com/e9t/nsmc"
   ]
  },
  {
   "cell_type": "code",
   "execution_count": 5,
   "metadata": {},
   "outputs": [
    {
     "name": "stdout",
     "output_type": "stream",
     "text": [
      "number of Token : 44777 \n",
      "unique Token    : 6664\n",
      "\n",
      "[('./Punctuation', 1491),\n",
      " ('영화/Noun', 1084),\n",
      " ('하다/Verb', 1045),\n",
      " ('이/Josa', 785),\n",
      " ('보다/Verb', 692)]\n"
     ]
    }
   ],
   "source": [
    "import nltk\n",
    "text = nltk.Text(tokens, name='NMSC')\n",
    "\n",
    "print(\"number of Token : {} \\nunique Token    : {}\\n\".format(\n",
    "    len(text.tokens), len(set(text.tokens))))\n",
    "pprint(text.vocab().most_common(5))    "
   ]
  },
  {
   "cell_type": "code",
   "execution_count": 6,
   "metadata": {},
   "outputs": [
    {
     "data": {
      "image/png": "[encoded data removed]",
      "text/plain": [
       "<Figure size 1152x360 with 1 Axes>"
      ]
     },
     "metadata": {},
     "output_type": "display_data"
    }
   ],
   "source": [
    "%matplotlib inline\n",
    "from matplotlib import rc\n",
    "rc('font', family=['NanumGothic','Malgun Gothic'])\n",
    "\n",
    "import matplotlib.pyplot as plt\n",
    "plt.figure(figsize=(16,5))\n",
    "text.plot(50) "
   ]
  },
  {
   "cell_type": "markdown",
   "metadata": {},
   "source": [
    "<br></br>\n",
    "## **3 모델의 정확도/ 일반화를 높이는 추가작업**\n",
    "우도 상위 4000개 데이터를 추출"
   ]
  },
  {
   "cell_type": "code",
   "execution_count": 7,
   "metadata": {},
   "outputs": [
    {
     "data": {
      "text/plain": [
       "['./Punctuation', '영화/Noun', '하다/Verb', '이/Josa', '보다/Verb']"
      ]
     },
     "execution_count": 7,
     "metadata": {},
     "output_type": "execute_result"
    }
   ],
   "source": [
    "selected_words = [f[0] for f in text.vocab().most_common(4000)]\n",
    "selected_words[:5]"
   ]
  },
  {
   "cell_type": "code",
   "execution_count": 8,
   "metadata": {},
   "outputs": [
    {
     "name": "stdout",
     "output_type": "stream",
     "text": [
      "CPU times: user 16.1 s, sys: 660 ms, total: 16.8 s\n",
      "Wall time: 16.8 s\n"
     ]
    }
   ],
   "source": [
    "%%time\n",
    "def term_exists(doc):\n",
    "    return {'exists({})'.format(word): (word in set(doc)) for word in selected_words}\n",
    "\n",
    "train_docs = train_docs[:10000]\n",
    "train_xy   = [(term_exists(d), c) for d, c in train_docs]\n",
    "test_xy    = [(term_exists(d), c) for d, c in test_docs]"
   ]
  },
  {
   "cell_type": "code",
   "execution_count": 9,
   "metadata": {},
   "outputs": [
    {
     "name": "stdout",
     "output_type": "stream",
     "text": [
      "CPU times: user 15.8 s, sys: 97 µs, total: 15.8 s\n",
      "Wall time: 15.8 s\n"
     ]
    }
   ],
   "source": [
    "%%time\n",
    "classifiers = nltk.NaiveBayesClassifier.train(train_xy)"
   ]
  },
  {
   "cell_type": "markdown",
   "metadata": {},
   "source": [
    "<br></br>\n",
    "## **4 생성한 모델을 평가**\n",
    "Accuracy\n",
    "1. 0 : 부정리뷰\n",
    "1. 1 : 긍정리뷰"
   ]
  },
  {
   "cell_type": "code",
   "execution_count": 10,
   "metadata": {},
   "outputs": [
    {
     "data": {
      "text/plain": [
       "['0', '1']"
      ]
     },
     "execution_count": 10,
     "metadata": {},
     "output_type": "execute_result"
    }
   ],
   "source": [
    "classifiers.labels()"
   ]
  },
  {
   "cell_type": "code",
   "execution_count": 11,
   "metadata": {},
   "outputs": [
    {
     "name": "stdout",
     "output_type": "stream",
     "text": [
      "Most Informative Features\n",
      "         exists(최악/Noun) = True                0 : 1      =     22.8 : 1.0\n",
      "         exists(명작/Noun) = True                1 : 0      =     19.8 : 1.0\n",
      "   exists(슬프다/Adjective) = True                1 : 0      =     18.5 : 1.0\n",
      "        exists(쓰레기/Noun) = True                0 : 1      =     17.7 : 1.0\n",
      "         exists(짜증/Noun) = True                0 : 1      =     16.2 : 1.0\n",
      "         exists(별로/Noun) = True                0 : 1      =     13.3 : 1.0\n",
      "         exists(최고/Noun) = True                1 : 0      =     12.1 : 1.0\n",
      "    exists(깊다/Adjective) = True                1 : 0      =     11.1 : 1.0\n",
      "    exists(뭔/NounPrefix) = True                0 : 1      =     10.9 : 1.0\n",
      "   exists(아깝다/Adjective) = True                0 : 1      =     10.9 : 1.0\n",
      "          exists(접/Noun) = True                0 : 1      =     10.3 : 1.0\n",
      "         exists(문제/Noun) = True                0 : 1      =     10.3 : 1.0\n",
      "       exists(떨어지다/Verb) = True                0 : 1      =     10.3 : 1.0\n",
      "  exists(따뜻하다/Adjective) = True                1 : 0      =      9.7 : 1.0\n",
      "          exists(뭘/Noun) = True                0 : 1      =      9.6 : 1.0\n",
      "          exists(굿/Noun) = True                1 : 0      =      9.5 : 1.0\n",
      "   exists(즐겁다/Adjective) = True                1 : 0      =      9.1 : 1.0\n",
      "         exists(졸작/Noun) = True                0 : 1      =      8.9 : 1.0\n",
      "          exists(돈/Noun) = True                0 : 1      =      8.5 : 1.0\n",
      "   exists(아프다/Adjective) = True                1 : 0      =      8.4 : 1.0\n"
     ]
    }
   ],
   "source": [
    "classifiers.show_most_informative_features(20)"
   ]
  },
  {
   "cell_type": "code",
   "execution_count": 12,
   "metadata": {
    "scrolled": true
   },
   "outputs": [
    {
     "name": "stdout",
     "output_type": "stream",
     "text": [
      "CPU times: user 11.6 s, sys: 8.21 ms, total: 11.6 s\n",
      "Wall time: 11.6 s\n"
     ]
    },
    {
     "data": {
      "text/plain": [
       "'네이버 긍부정 모델의 Accuracy : 0.754'"
      ]
     },
     "execution_count": 12,
     "metadata": {},
     "output_type": "execute_result"
    }
   ],
   "source": [
    "%%time\n",
    "'네이버 긍부정 모델의 Accuracy : {}'.format(\n",
    "    nltk.classify.accuracy(classifiers, test_xy))"
   ]
  },
  {
   "cell_type": "markdown",
   "metadata": {},
   "source": [
    "<br></br>\n",
    "## **5 모델의 활용**\n",
    "1. 0 : 부정리뷰\n",
    "1. 1 : 긍정리뷰"
   ]
  },
  {
   "cell_type": "code",
   "execution_count": 13,
   "metadata": {},
   "outputs": [],
   "source": [
    "review = \"\"\"약간지루합니다. \n",
    "스토리도 작의적인부분이 있고.. 스케일이 크지도않네요. \n",
    "역사고발이라는측면에서는 의의가 있다고봅니다\"\"\""
   ]
  },
  {
   "cell_type": "code",
   "execution_count": 14,
   "metadata": {},
   "outputs": [
    {
     "data": {
      "text/plain": [
       "['약간/Noun',\n",
       " '지루하다/Adjective',\n",
       " './Punctuation',\n",
       " '스토리/Noun',\n",
       " '도/Josa',\n",
       " '작/Noun',\n",
       " '의적/Noun',\n",
       " '인/Josa',\n",
       " '부분/Noun',\n",
       " '이/Josa',\n",
       " '있다/Adjective',\n",
       " '../Punctuation',\n",
       " '스케일/Noun',\n",
       " '이/Josa',\n",
       " '크다/Verb',\n",
       " '않다/Verb',\n",
       " './Punctuation',\n",
       " '역사/Noun',\n",
       " '고발/Noun',\n",
       " '이라는/Josa',\n",
       " '측면/Noun',\n",
       " '에서는/Josa',\n",
       " '의의/Noun',\n",
       " '가/Josa',\n",
       " '있다/Adjective',\n",
       " '보다/Verb']"
      ]
     },
     "execution_count": 14,
     "metadata": {},
     "output_type": "execute_result"
    }
   ],
   "source": [
    "review = tokenize(review)    # 문법 Tag 추가한 객체로 변환\n",
    "review"
   ]
  },
  {
   "cell_type": "code",
   "execution_count": 15,
   "metadata": {},
   "outputs": [
    {
     "name": "stdout",
     "output_type": "stream",
     "text": [
      "exists(./Punctuation) = True\n",
      "exists(이/Josa) = True\n",
      "exists(보다/Verb) = True\n",
      "exists(../Punctuation) = True\n",
      "exists(가/Josa) = True\n",
      "exists(도/Josa) = True\n",
      "exists(있다/Adjective) = True\n",
      "exists(않다/Verb) = True\n",
      "exists(스토리/Noun) = True\n",
      "exists(인/Josa) = True\n",
      "exists(지루하다/Adjective) = True\n",
      "exists(크다/Verb) = True\n",
      "exists(부분/Noun) = True\n",
      "exists(이라는/Josa) = True\n",
      "exists(역사/Noun) = True\n",
      "exists(약간/Noun) = True\n",
      "exists(스케일/Noun) = True\n",
      "exists(에서는/Josa) = True\n",
      "exists(고발/Noun) = True\n",
      "exists(작/Noun) = True\n"
     ]
    }
   ],
   "source": [
    "review = term_exists(review) # 기준 용어들이 포함여부 판단\n",
    "for k, v in review.items():\n",
    "    if v == True:\n",
    "        print(\"{} = {}\".format(k, v))"
   ]
  },
  {
   "cell_type": "code",
   "execution_count": 16,
   "metadata": {
    "scrolled": true
   },
   "outputs": [
    {
     "data": {
      "text/plain": [
       "'1'"
      ]
     },
     "execution_count": 16,
     "metadata": {},
     "output_type": "execute_result"
    }
   ],
   "source": [
    "classifiers.classify(review)  # 분류모델 평가"
   ]
  }
 ],
 "metadata": {
  "kernelspec": {
   "display_name": "Python 3",
   "language": "python",
   "name": "python3"
  },
  "language_info": {
   "codemirror_mode": {
    "name": "ipython",
    "version": 3
   },
   "file_extension": ".py",
   "mimetype": "text/x-python",
   "name": "python",
   "nbconvert_exporter": "python",
   "pygments_lexer": "ipython3",
   "version": "3.6.3"
  }
 },
 "nbformat": 4,
 "nbformat_minor": 2
}
