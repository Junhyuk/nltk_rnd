{
 "cells": [
  {
   "cell_type": "markdown",
   "metadata": {},
   "source": [
    "<br></br>\n",
    "# **gensim | doc2vec**\n",
    "<br></br>\n",
    "## **1 네이버 리뷰 문장의 활용**\n",
    "네이버 영화리뷰 단어모델 만들기"
   ]
  },
  {
   "cell_type": "code",
   "execution_count": 1,
   "metadata": {},
   "outputs": [],
   "source": [
    "from konlpy.tag import Twitter\n",
    "twitter = Twitter()\n",
    "\n",
    "def read_data(filename):\n",
    "    with open(filename, 'r' ,encoding='utf-8') as f:\n",
    "        data = [line.split('\\t') for line in f.read().splitlines()]\n",
    "    from random import randint\n",
    "    random_data = [data[randint(1, len(data))]  for no in range(int(len(data)/10)) ]\n",
    "    return random_data\n",
    "\n",
    "def tokenize(doc):\n",
    "    return ['/'.join(t) for t in twitter.pos(doc, norm=True, stem=True)]"
   ]
  },
  {
   "cell_type": "code",
   "execution_count": 2,
   "metadata": {},
   "outputs": [
    {
     "name": "stdout",
     "output_type": "stream",
     "text": [
      "CPU times: user 27.2 s, sys: 271 ms, total: 27.5 s\n",
      "Wall time: 18.6 s\n"
     ]
    }
   ],
   "source": [
    "%%time\n",
    "from collections import namedtuple\n",
    "train_data        = read_data('./data/ratings_train.txt')\n",
    "train_docs        = [(tokenize(row[1]), row[2]) for row in train_data[1:]]\n",
    "TaggedDocument    = namedtuple('TaggedDocument', 'words tags')\n",
    "tagged_train_docs = [TaggedDocument(d, [c]) for d, c in train_docs]"
   ]
  },
  {
   "cell_type": "code",
   "execution_count": 3,
   "metadata": {},
   "outputs": [
    {
     "name": "stdout",
     "output_type": "stream",
     "text": [
      "TaggedDocument(words=['영화/Noun', '역사상/Noun', '통/Noun', '들다/Verb', \"'/Punctuation\", '거대/Noun', '제작비/Noun', '가/Josa', '들어가다/Verb', '러닝/Noun', '타임/Noun', '의/Josa', '절반/Noun', '분량/Noun', '의/Josa', '사족/Noun', '이/Josa', '붙다/Verb', '영화/Noun', '목록/Noun', \"'/Punctuation\", '이/Noun', '있다/Adjective', '다섯/Noun', '손가락/Noun', '안/Noun', '에는/Josa', '꼭/Noun', '들어가다/Verb', '것/Noun', '이다/Josa'], tags=['0'])\n"
     ]
    }
   ],
   "source": [
    "from pprint import pprint\n",
    "pprint(tagged_train_docs[0])"
   ]
  },
  {
   "cell_type": "markdown",
   "metadata": {},
   "source": [
    "<br></br>\n",
    "## **2 doc2vec 파라미터 설정 및 학습**"
   ]
  },
  {
   "cell_type": "code",
   "execution_count": 4,
   "metadata": {},
   "outputs": [
    {
     "name": "stdout",
     "output_type": "stream",
     "text": [
      "CPU times: user 1min, sys: 4.96 s, total: 1min 5s\n",
      "Wall time: 34.7 s\n"
     ]
    }
   ],
   "source": [
    "%%time\n",
    "from gensim.models import doc2vec\n",
    "doc_vectorizer = doc2vec.Doc2Vec(vector_size=300, alpha=0.025, min_alpha=0.025, seed=1234)\n",
    "doc_vectorizer.build_vocab(tagged_train_docs)\n",
    "\n",
    "for epoch in range(10):\n",
    "    doc_vectorizer.train(tagged_train_docs, \n",
    "                         total_examples = doc_vectorizer.corpus_count, \n",
    "                         epochs = doc_vectorizer.epochs)\n",
    "    doc_vectorizer.alpha -= 0.002\n",
    "    doc_vectorizer.min_alpha = doc_vectorizer.alpha \n",
    "\n",
    "# 학습이 완료된 모델의 데이터를 저장한다\n",
    "doc_vectorizer.save('./data/doc2vec.model')"
   ]
  },
  {
   "cell_type": "markdown",
   "metadata": {},
   "source": [
    "<br></br>\n",
    "## **3 doc2Vec 모델활용**"
   ]
  },
  {
   "cell_type": "code",
   "execution_count": 5,
   "metadata": {},
   "outputs": [],
   "source": [
    "from gensim.models import doc2vec\n",
    "from pprint import pprint\n",
    "doc_vectorizer = doc2vec.Doc2Vec.load('./data/doc2vec.model')"
   ]
  },
  {
   "cell_type": "code",
   "execution_count": 6,
   "metadata": {},
   "outputs": [
    {
     "name": "stdout",
     "output_type": "stream",
     "text": [
      "[('장르/Noun', 0.4658203721046448),\n",
      " ('교과서/Noun', 0.43489059805870056),\n",
      " ('효과/Noun', 0.4230882525444031),\n",
      " ('↓/Foreign', 0.4171814024448395),\n",
      " ('서스펜스/Noun', 0.41564539074897766),\n",
      " ('싱겁다/Adjective', 0.41195330023765564),\n",
      " ('단순/Noun', 0.40946850180625916),\n",
      " ('범죄/Noun', 0.4074081778526306),\n",
      " ('거부/Noun', 0.40322983264923096),\n",
      " ('코미디/Noun', 0.39780300855636597)]\n"
     ]
    },
    {
     "name": "stderr",
     "output_type": "stream",
     "text": [
      "/home/markbaum/Python/nltk/lib/python3.6/site-packages/gensim/matutils.py:737: FutureWarning: Conversion of the second argument of issubdtype from `int` to `np.signedinteger` is deprecated. In future, it will be treated as `np.int64 == np.dtype(int).type`.\n",
      "  if np.issubdtype(vec.dtype, np.int):\n"
     ]
    }
   ],
   "source": [
    "pprint(doc_vectorizer.wv.most_similar('공포/Noun'))"
   ]
  },
  {
   "cell_type": "code",
   "execution_count": 7,
   "metadata": {},
   "outputs": [
    {
     "name": "stderr",
     "output_type": "stream",
     "text": [
      "/home/markbaum/Python/nltk/lib/python3.6/site-packages/gensim/matutils.py:737: FutureWarning: Conversion of the second argument of issubdtype from `int` to `np.signedinteger` is deprecated. In future, it will be treated as `np.int64 == np.dtype(int).type`.\n",
      "  if np.issubdtype(vec.dtype, np.int):\n"
     ]
    },
    {
     "data": {
      "text/plain": [
       "0.021508785"
      ]
     },
     "execution_count": 7,
     "metadata": {},
     "output_type": "execute_result"
    }
   ],
   "source": [
    "doc_vectorizer.wv.similarity('공포/Noun', 'ㅋㅋ/KoreanParticle')"
   ]
  },
  {
   "cell_type": "code",
   "execution_count": 8,
   "metadata": {},
   "outputs": [
    {
     "name": "stdout",
     "output_type": "stream",
     "text": [
      "[('코미디/Noun', 0.3807429075241089),\n",
      " ('싱겁다/Adjective', 0.3694385290145874),\n",
      " ('단순/Noun', 0.3490898311138153),\n",
      " ('거부/Noun', 0.34379300475120544),\n",
      " ('인지/Noun', 0.3303176462650299),\n",
      " ('피/Noun', 0.31789112091064453),\n",
      " ('나서다/Verb', 0.31452712416648865),\n",
      " ('장르/Noun', 0.3000449240207672),\n",
      " ('애매/Noun', 0.2979757785797119),\n",
      " ('서스펜스/Noun', 0.29294371604919434)]\n"
     ]
    },
    {
     "name": "stderr",
     "output_type": "stream",
     "text": [
      "/home/markbaum/Python/nltk/lib/python3.6/site-packages/gensim/matutils.py:737: FutureWarning: Conversion of the second argument of issubdtype from `int` to `np.signedinteger` is deprecated. In future, it will be treated as `np.int64 == np.dtype(int).type`.\n",
      "  if np.issubdtype(vec.dtype, np.int):\n"
     ]
    }
   ],
   "source": [
    "pprint(doc_vectorizer.wv.most_similar(positive=['여자/Noun', '공포/Noun'], \n",
    "                                      negative=['남자/Noun']))"
   ]
  },
  {
   "cell_type": "code",
   "execution_count": 9,
   "metadata": {},
   "outputs": [
    {
     "data": {
      "text/plain": [
       "array([-1.5043770e-06,  1.2723691e-02,  2.3739752e-03, -3.8722011e-03,\n",
       "        6.5828748e-03, -1.9027082e-03,  1.3088444e-02,  4.3375581e-03,\n",
       "        5.9464159e-03,  3.2994461e-03], dtype=float32)"
      ]
     },
     "execution_count": 9,
     "metadata": {},
     "output_type": "execute_result"
    }
   ],
   "source": [
    "doc_vectorizer.infer_vector(['픽사/Noun', '최고/Noun', '명작/Noun'])[:10]"
   ]
  },
  {
   "cell_type": "code",
   "execution_count": 10,
   "metadata": {},
   "outputs": [
    {
     "data": {
      "text/plain": [
       "-0.012216017"
      ]
     },
     "execution_count": 10,
     "metadata": {},
     "output_type": "execute_result"
    }
   ],
   "source": [
    "doc_vectorizer.infer_vector(['픽사/Noun', '최고/Noun', '명작/Noun']).sum()"
   ]
  }
 ],
 "metadata": {
  "kernelspec": {
   "display_name": "Python 3",
   "language": "python",
   "name": "python3"
  },
  "language_info": {
   "codemirror_mode": {
    "name": "ipython",
    "version": 3
   },
   "file_extension": ".py",
   "mimetype": "text/x-python",
   "name": "python",
   "nbconvert_exporter": "python",
   "pygments_lexer": "ipython3",
   "version": "3.6.3"
  }
 },
 "nbformat": 4,
 "nbformat_minor": 2
}
