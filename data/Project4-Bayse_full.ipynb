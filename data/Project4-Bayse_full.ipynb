{
 "cells": [
  {
   "cell_type": "markdown",
   "metadata": {},
   "source": [
    "<br></br>\n",
    "# **나이브베이즈 모델의 활용**\n",
    "1. **베이지안 평가 학습모델**을 불러온다 (0:부정 / 1:긍정)\n",
    "1. **분석을 위한 네이버 뉴스 댓글**을 수집한다 (600개 내외가 적합)\n",
    "1. **긍정/ 부정 댓글**을 분류한다\n",
    "1. **긍정 리뷰**의 **Token** 을 트위터 **Stemming**으로 정규화 한다\n",
    "1. **정규화된 Token** 중 **\"명사\", \"동사\", \"형용사\"** 만 수집\n",
    "1. 수집된 Token List 객체를 **nltk.Text 로 변환 후 빈도상위 10개**를 출력한다\n",
    "\n",
    "<img src=\"http://www.meconomynews.com/news/photo/201806/15255_14549_2116.png\" />"
   ]
  },
  {
   "cell_type": "markdown",
   "metadata": {},
   "source": [
    "<br></br>\n",
    "## **1 모듈과 데이터 불러오기**\n",
    "Import Data / Datum"
   ]
  },
  {
   "cell_type": "code",
   "execution_count": 1,
   "metadata": {},
   "outputs": [
    {
     "data": {
      "text/plain": [
       "<nltk.classify.naivebayes.NaiveBayesClassifier at 0x7f4f8461c0f0>"
      ]
     },
     "execution_count": 1,
     "metadata": {},
     "output_type": "execute_result"
    }
   ],
   "source": [
    "# Step 1 : 앞에서 학습한 Classifier 모델을 불러온다\n",
    "# >> classifier = pickle.\n",
    "\n",
    "import pickle\n",
    "file = './data/classifier.model'\n",
    "classifier = pickle.load(open(file, 'rb'))\n",
    "classifier"
   ]
  },
  {
   "cell_type": "code",
   "execution_count": 2,
   "metadata": {},
   "outputs": [
    {
     "data": {
      "text/plain": [
       "['./Punctuation', '하다/Verb', '영화/Noun', '이/Josa', '보다/Verb']"
      ]
     },
     "execution_count": 2,
     "metadata": {},
     "output_type": "execute_result"
    }
   ],
   "source": [
    "# Step 2 : 분류기준 단어목록 불러오기\n",
    "# >> selected_words = pickle.\n",
    "\n",
    "file = './data/selected.words'\n",
    "selected_words = pickle.load(open(file, 'rb'))\n",
    "selected_words[:5]"
   ]
  },
  {
   "cell_type": "code",
   "execution_count": 3,
   "metadata": {},
   "outputs": [],
   "source": [
    "# Step 3 : Tokenizer 생성/ 판단모듈\n",
    "from konlpy.tag import Twitter\n",
    "twitter = Twitter()\n",
    "\n",
    "# 문단을 긍부정 분석용 Token 생성하기\n",
    "def tokenize(doc):\n",
    "    doc = ['/'.join(t) for t in twitter.pos(doc, norm=True, stem=True)]\n",
    "    return {'exists({})'.format(word): (word in set(doc)) for word in selected_words}\n",
    "\n",
    "# 위에서 생성한 Token을 활용하여 판단하기\n",
    "def classify_text(text):\n",
    "    tokens = tokenize(text)             # 트위터로 Stemming/ Taggging 후 Selected_word 판단결과 객체\n",
    "    return classifier.classify(tokens)  # 분류모델 평가"
   ]
  },
  {
   "cell_type": "code",
   "execution_count": 4,
   "metadata": {},
   "outputs": [
    {
     "data": {
      "text/plain": [
       "'1'"
      ]
     },
     "execution_count": 4,
     "metadata": {},
     "output_type": "execute_result"
    }
   ],
   "source": [
    "# Step 4 : 데이터와 모델, 함수를 활용하여 긍/부정 Test\n",
    "# 0 : 부정모델 , 1 : 긍정모델\n",
    "\n",
    "text   = \"\"\"영화가 재미있어요\"\"\"\n",
    "classify_text(text)"
   ]
  },
  {
   "cell_type": "markdown",
   "metadata": {},
   "source": [
    "<br></br>\n",
    "## **2 뉴스 데이터 댓글데이터 불러오기**\n",
    "replies [참고](http://blog.naver.com/PostView.nhn?blogId=sangdo14&logNo=220610607049&categoryNo=0&parentCategoryNo=163&viewDate=&currentPage=1&postListTopCurrentPage=1&from=search)"
   ]
  },
  {
   "cell_type": "code",
   "execution_count": 5,
   "metadata": {},
   "outputs": [],
   "source": [
    "from txtutil import Naver_news_rep\n",
    "news_url = \"https://news.naver.com/main/hotissue/read.nhn?mid=hot&\" +\\\n",
    "           \"sid1=&cid=1064721&iid=3227816&oid=001&aid=0010068060&ptype=021\"\n",
    "replies  = Naver_news_rep(news_url)\n",
    "\n",
    "import pickle\n",
    "pickle.dump(replies, open('./data/naver_news.rep', 'wb'))"
   ]
  },
  {
   "cell_type": "code",
   "execution_count": 6,
   "metadata": {},
   "outputs": [
    {
     "name": "stdout",
     "output_type": "stream",
     "text": [
      "Data length : 523\n",
      "Data sample : ['\"방수 된다고 했지, 고장 안난다고 한적 없습나다 고갱님^^\"', '\"휴지에 물 묻혀서 청소하는게 생활방수 아니면 뭐임??\"', '\"이러니 순실전자니 뭐니해도 삼성 쓸수밖에.AS가 넘사벽이잖아.왜 소비자가 불편함과 불이익을 감수하면서 까지 불매를 해야함?\"', '\"실제 애플 홈페이지에 소개된 제품 설명 맨 하단에 보면 작은 글씨로 \\\\\"아이폰은 IP67 등급 생활 방수 및 방진 기능을 갖추고 있다\\\\\"면서도 \\\\\"액체에 의한 손상은 보증 대상이 아니다\\\\\"라고 못 박고 있다. &lt;&lt;&lt; 이부분 어안벙벙하긴 함.\"', '\"침수됐으니 유상으로 수리를 받아야 한다며 76만원을 내라고 했다...이거 실화냐 ? 이게 말이여 ? 방구여 ? ㅋㅋㅋㅋㅋㅋㅋㅋㅋㅋㅋㅋㅋㅋㅋㅋㅋㅋㅋㅋㅋㅋㅋㅋㅋㅋㅋㅋㅋㅋㅋㅋㅋㅋㅋㅋㅋ\"']\n"
     ]
    }
   ],
   "source": [
    "# 네이버 뉴스 댓글 저장데이터를 \n",
    "# data 매개변수 이름으로 불러오기\n",
    "\n",
    "import pickle\n",
    "data = pickle.load(open('./data/naver_news.rep', 'rb'))\n",
    "print(\"Data length : {}\\nData sample : {}\".format(\n",
    "    len(data), data[:5]))"
   ]
  },
  {
   "cell_type": "markdown",
   "metadata": {},
   "source": [
    "<br></br>\n",
    "## **Mission Test**\n",
    "긍정 부정댓글 분류하기"
   ]
  },
  {
   "cell_type": "code",
   "execution_count": 7,
   "metadata": {},
   "outputs": [],
   "source": [
    "# Mission 1\n",
    "# 전체 댓글 갯수중 긍정/ 부정 갯수 계산하기"
   ]
  },
  {
   "cell_type": "code",
   "execution_count": 8,
   "metadata": {},
   "outputs": [],
   "source": [
    "pro, con = [], []\n",
    "for datum in data:\n",
    "    if classify_text(datum) == \"1\":\n",
    "        pro.append(datum)\n",
    "    else:\n",
    "        con.append(datum)"
   ]
  },
  {
   "cell_type": "code",
   "execution_count": 9,
   "metadata": {},
   "outputs": [],
   "source": [
    "result = {}\n",
    "result[\"긍정\"] = pro\n",
    "result[\"부정\"] = con"
   ]
  },
  {
   "cell_type": "code",
   "execution_count": 10,
   "metadata": {},
   "outputs": [
    {
     "data": {
      "text/plain": [
       "124"
      ]
     },
     "execution_count": 10,
     "metadata": {},
     "output_type": "execute_result"
    }
   ],
   "source": [
    "len(result[\"긍정\"])"
   ]
  },
  {
   "cell_type": "code",
   "execution_count": 11,
   "metadata": {},
   "outputs": [
    {
     "data": {
      "text/plain": [
       "399"
      ]
     },
     "execution_count": 11,
     "metadata": {},
     "output_type": "execute_result"
    }
   ],
   "source": [
    "len(result[\"부정\"])"
   ]
  },
  {
   "cell_type": "code",
   "execution_count": 12,
   "metadata": {},
   "outputs": [],
   "source": [
    "# Mission 2\n",
    "# 긍정 댓글을 구분하여 분류한 뒤\n",
    "# 명사, 형용사, 동사 Token만 추출하기 (전처리 / Token의 예외처리는 미포함)"
   ]
  },
  {
   "cell_type": "code",
   "execution_count": 13,
   "metadata": {},
   "outputs": [
    {
     "name": "stdout",
     "output_type": "stream",
     "text": [
      "Variable         Type                    Data/Info\n",
      "--------------------------------------------------\n",
      "Naver_news_rep   function                <function Naver_news_rep at 0x7f4f4e071ae8>\n",
      "Twitter          type                    <class 'konlpy.tag._twitter.Twitter'>\n",
      "classifier       NaiveBayesClassifier    <nltk.classify.naivebayes<...>object at 0x7f4f8461c0f0>\n",
      "classify_text    function                <function classify_text at 0x7f4f4e33ed90>\n",
      "con              list                    n=399\n",
      "data             list                    n=523\n",
      "datum            str                     \"역사가들은 현시대를 친일파강점기라고 부릅니다<...>재인 탄핵과 김대중 부관참시에 동참해주세요.\"\n",
      "file             str                     ./data/selected.words\n",
      "news_url         str                     https://news.naver.com/ma<...>&aid=0010068060&ptype=021\n",
      "pickle           module                  <module 'pickle' from '/u<...>lib/python3.6/pickle.py'>\n",
      "pro              list                    n=124\n",
      "replies          list                    n=523\n",
      "result           dict                    n=2\n",
      "selected_words   list                    n=4000\n",
      "text             str                     영화가 재미있어요\n",
      "tokenize         function                <function tokenize at 0x7f4f4e33ed08>\n",
      "twitter          Twitter                 <konlpy.tag._twitter.Twit<...>object at 0x7f4f4ee55c18>\n"
     ]
    }
   ],
   "source": [
    "%whos"
   ]
  },
  {
   "cell_type": "code",
   "execution_count": 14,
   "metadata": {},
   "outputs": [
    {
     "data": {
      "text/plain": [
       "['\"방수 된다고 했지, 고장 안난다고 한적 없습나다 고갱님^^\"',\n",
       " '\"휴지에 물 묻혀서 청소하는게 생활방수 아니면 뭐임??\"',\n",
       " '\"이러니 순실전자니 뭐니해도 삼성 쓸수밖에.AS가 넘사벽이잖아.왜 소비자가 불편함과 불이익을 감수하면서 까지 불매를 해야함?\"']"
      ]
     },
     "execution_count": 14,
     "metadata": {},
     "output_type": "execute_result"
    }
   ],
   "source": [
    "texts = result['부정']\n",
    "texts[:3]"
   ]
  },
  {
   "cell_type": "code",
   "execution_count": 17,
   "metadata": {},
   "outputs": [],
   "source": [
    "filtered_tokens = []\n",
    "for text in texts:\n",
    "    tokens = twitter.pos(text ,stem=True)\n",
    "    tokens = [token[0]    for token in tokens    \n",
    "                          if (token[1] in ['Noun','Adjective','Verb']) and (len(token[0]) > 1 )]\n",
    "    filtered_tokens += tokens"
   ]
  },
  {
   "cell_type": "code",
   "execution_count": 18,
   "metadata": {},
   "outputs": [],
   "source": [
    "# Mission 3\n",
    "# nltk.Text() 객체를 활용하기\n",
    "# 상위 빈도수 50인 Token을 추출하기"
   ]
  },
  {
   "cell_type": "code",
   "execution_count": 19,
   "metadata": {
    "scrolled": true
   },
   "outputs": [
    {
     "data": {
      "text/plain": [
       "[('하다', 264),\n",
       " ('방수', 178),\n",
       " ('되다', 141),\n",
       " ('삼성', 121),\n",
       " ('아이폰', 97),\n",
       " ('쓰다', 96),\n",
       " ('없다', 75),\n",
       " ('광고', 68),\n",
       " ('애플', 63),\n",
       " ('아니다', 60),\n",
       " ('침수', 54),\n",
       " ('닦다', 50),\n",
       " ('있다', 49),\n",
       " ('받다', 41),\n",
       " ('기사', 40),\n",
       " ('문제', 38),\n",
       " ('기능', 37),\n",
       " ('생활', 31),\n",
       " ('가다', 30),\n",
       " ('수리', 30)]"
      ]
     },
     "execution_count": 19,
     "metadata": {},
     "output_type": "execute_result"
    }
   ],
   "source": [
    "import nltk\n",
    "pos_nltk = nltk.Text(filtered_tokens, name='긍정댓글')\n",
    "pos_nltk.vocab().most_common(20)"
   ]
  },
  {
   "cell_type": "markdown",
   "metadata": {},
   "source": [
    "<br></br>\n",
    "## **nltk 객체 활용하기**\n",
    "Token 주변의 단어들 살펴보기"
   ]
  },
  {
   "cell_type": "code",
   "execution_count": 20,
   "metadata": {},
   "outputs": [
    {
     "name": "stdout",
     "output_type": "stream",
     "text": [
      "no matches\n"
     ]
    }
   ],
   "source": [
    "pos_nltk.concordance('조선시대')"
   ]
  }
 ],
 "metadata": {
  "kernelspec": {
   "display_name": "Python 3",
   "language": "python",
   "name": "python3"
  },
  "language_info": {
   "codemirror_mode": {
    "name": "ipython",
    "version": 3
   },
   "file_extension": ".py",
   "mimetype": "text/x-python",
   "name": "python",
   "nbconvert_exporter": "python",
   "pygments_lexer": "ipython3",
   "version": "3.6.3"
  }
 },
 "nbformat": 4,
 "nbformat_minor": 2
}
