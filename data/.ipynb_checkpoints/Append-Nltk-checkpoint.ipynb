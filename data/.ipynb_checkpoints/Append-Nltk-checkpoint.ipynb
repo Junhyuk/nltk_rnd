{
 "cells": [
  {
   "cell_type": "markdown",
   "metadata": {},
   "source": [
    "# **nltk 객체 활용하기**\n",
    "nltk token"
   ]
  },
  {
   "cell_type": "markdown",
   "metadata": {},
   "source": [
    "## **1 nltk 객체 정의하기**\n",
    "Token List 객체를 생성한 뒤, 이를 활용하여 nltk 객체를 만든다"
   ]
  },
  {
   "cell_type": "code",
   "execution_count": 1,
   "metadata": {},
   "outputs": [
    {
     "data": {
      "text/plain": [
       "['삼성전자', '지속가능경영보고서', '보고서', '개요', '삼성전자']"
      ]
     },
     "execution_count": 1,
     "metadata": {},
     "output_type": "execute_result"
    }
   ],
   "source": [
    "# 삼성전자 지속가능경영 보고서\n",
    "skipword = ['갤러시', '가치창출']\n",
    "\n",
    "from py.txtutil import txtnoun\n",
    "from nltk.tokenize import word_tokenize\n",
    "texts  = txtnoun(\"./data/kr-Report_2018.txt\", skip=skipword)\n",
    "tokens = word_tokenize(texts)\n",
    "tokens[:5]"
   ]
  },
  {
   "cell_type": "code",
   "execution_count": 2,
   "metadata": {},
   "outputs": [
    {
     "data": {
      "text/plain": [
       "<Text: 2018지속성장>"
      ]
     },
     "execution_count": 2,
     "metadata": {},
     "output_type": "execute_result"
    }
   ],
   "source": [
    "# nltk Token 객체를 활용한 다양한 메소드를 제동\n",
    "import nltk\n",
    "ss_nltk = nltk.Text(tokens, name='2018지속성장')\n",
    "ss_nltk"
   ]
  },
  {
   "cell_type": "markdown",
   "metadata": {},
   "source": [
    "## **2 nltk 객체 활용하기**\n",
    "내부 메서드를 활용한다"
   ]
  },
  {
   "cell_type": "code",
   "execution_count": 3,
   "metadata": {},
   "outputs": [],
   "source": [
    "# Token 과 연어관계에 있는 단어목록\n",
    "# ss_nltk.collocations(num=30, window_size=2)"
   ]
  },
  {
   "cell_type": "code",
   "execution_count": 4,
   "metadata": {},
   "outputs": [
    {
     "data": {
      "text/plain": [
       "'2018지속성장'"
      ]
     },
     "execution_count": 4,
     "metadata": {},
     "output_type": "execute_result"
    }
   ],
   "source": [
    "# 객체의 이름을 출력\n",
    "ss_nltk.name"
   ]
  },
  {
   "cell_type": "code",
   "execution_count": 5,
   "metadata": {},
   "outputs": [
    {
     "name": "stdout",
     "output_type": "stream",
     "text": [
      "관리_정량성과표 이사회_분야 도출_정량성과표 관리_이해관계자 관리_비즈니스 영위_정량성과표 관리_잠재 해결_커뮤니케이션\n",
      "소통_정량성과표 관리_부문별 지속가능경영보고서_컴플라이언스 분야_정량성과표 극대_정량성과표 경쟁_지향 대응_정량성과표\n",
      "관리_조사 정부_정량성과표 직무_제조 재해율_정도 고용금지_미성년\n"
     ]
    }
   ],
   "source": [
    "# Token의 주변에 등장하는 단어들\n",
    "ss_nltk.common_contexts(['책임경영'])"
   ]
  },
  {
   "cell_type": "code",
   "execution_count": 6,
   "metadata": {},
   "outputs": [
    {
     "name": "stdout",
     "output_type": "stream",
     "text": [
      "Displaying 2 of 25 matches:\n",
      " 지속가능경영 연관 활동 현황 이해관계자 소통 지배구조 리스크 관리 책임경영 정량성과표 외부 검증 검증보고서 온실가스 배출량 검증보고서 대조표 \n",
      " 부문 대표 경영진 배제 사외이사 회의 개최 경영 전반 이사 이사회 책임경영 분야 전문가 대한 의견 이사회 사외이사 독립성 확대하 사외이사 객관\n"
     ]
    }
   ],
   "source": [
    "# 인접하여 위치하는 Token 을 출력\n",
    "ss_nltk.concordance('책임경영', lines=2)"
   ]
  },
  {
   "cell_type": "code",
   "execution_count": 7,
   "metadata": {},
   "outputs": [
    {
     "data": {
      "text/plain": [
       "ConcordanceLine(left=['만료', '사외이사', '문성과', '다양성', '겸비', '후보', '발굴', '결과', '부문', '대표', '경영진', '배제', '사외이사', '회의', '개최', '경영', '전반', '이사', '이사회'], query='책임경영', right=['분야', '전문가', '대한', '의견', '이사회', '사외이사', '독립성', '확대하', '사외이사', '객관', '시각', '경영진', '견제', '균형', '노력', '지속', '전략', '의사결정'], offset=1970, left_print='부문 대표 경영진 배제 사외이사 회의 개최 경영 전반 이사 이사회', right_print='분야 전문가 대한 의견 이사회 사외이사 독립성 확대하 사외이사 객', line='부문 대표 경영진 배제 사외이사 회의 개최 경영 전반 이사 이사회 책임경영 분야 전문가 대한 의견 이사회 사외이사 독립성 확대하 사외이사 객')"
      ]
     },
     "execution_count": 7,
     "metadata": {},
     "output_type": "execute_result"
    }
   ],
   "source": [
    "ss_nltk.concordance_list('책임경영')[1]"
   ]
  },
  {
   "cell_type": "code",
   "execution_count": 8,
   "metadata": {},
   "outputs": [
    {
     "data": {
      "text/plain": [
       "40"
      ]
     },
     "execution_count": 8,
     "metadata": {},
     "output_type": "execute_result"
    }
   ],
   "source": [
    "# Token 의 빈도값 출력\n",
    "ss_nltk.count('책임경영')"
   ]
  },
  {
   "cell_type": "code",
   "execution_count": 9,
   "metadata": {},
   "outputs": [
    {
     "data": {
      "image/png": "[encoded data removed]",
      "text/plain": [
       "<Figure size 432x288 with 1 Axes>"
      ]
     },
     "metadata": {},
     "output_type": "display_data"
    }
   ],
   "source": [
    "%matplotlib inline\n",
    "from matplotlib import rc\n",
    "rc('font', family=['NanumGothic','Malgun Gothic'])\n",
    "\n",
    "# 해당 단어별 출현빈도 비교출력\n",
    "ss_nltk.dispersion_plot(['책임경영', '경영진', '갤럭시', '갤러시', '업사이클링'])"
   ]
  },
  {
   "cell_type": "code",
   "execution_count": 10,
   "metadata": {},
   "outputs": [
    {
     "data": {
      "image/png": "[encoded data removed]",
      "text/plain": [
       "<Figure size 432x288 with 1 Axes>"
      ]
     },
     "metadata": {},
     "output_type": "display_data"
    }
   ],
   "source": [
    "# 객체의 빈도를 Matplot linechart 로 출력\n",
    "ss_nltk.plot(10)"
   ]
  },
  {
   "cell_type": "code",
   "execution_count": 11,
   "metadata": {},
   "outputs": [
    {
     "name": "stdout",
     "output_type": "stream",
     "text": [
      "노동 지속가능경영보고서 전체\n"
     ]
    }
   ],
   "source": [
    "# ko.readability('biline')\n",
    "ss_nltk.similar('삼성전자',num=3)"
   ]
  },
  {
   "cell_type": "markdown",
   "metadata": {},
   "source": [
    "## **3 nltk.vocab() 객체 활용하기**\n",
    "Token 객체들 다루기"
   ]
  },
  {
   "cell_type": "code",
   "execution_count": 12,
   "metadata": {},
   "outputs": [
    {
     "data": {
      "text/plain": [
       "[('삼성전자', 338),\n",
       " ('관리', 306),\n",
       " ('제품', 261),\n",
       " ('협력사', 231),\n",
       " ('사업', 213),\n",
       " ('임직원', 162),\n",
       " ('위해', 161),\n",
       " ('활동', 148),\n",
       " ('리스크', 144),\n",
       " ('교육', 139)]"
      ]
     },
     "execution_count": 12,
     "metadata": {},
     "output_type": "execute_result"
    }
   ],
   "source": [
    "# Token의 출현빈도 상위객체 출력\n",
    "# ko.tokens(['초등학교', '저학년'])\n",
    "ss_nltk.vocab().most_common(10)"
   ]
  },
  {
   "cell_type": "code",
   "execution_count": 16,
   "metadata": {},
   "outputs": [
    {
     "data": {
      "text/plain": [
       "['삼성전자', '지속가능경영보고서', '보고서', '개요', '경제사회환경']"
      ]
     },
     "execution_count": 16,
     "metadata": {},
     "output_type": "execute_result"
    }
   ],
   "source": [
    "list(ss_nltk.vocab().keys())[:5]"
   ]
  },
  {
   "cell_type": "code",
   "execution_count": 17,
   "metadata": {},
   "outputs": [
    {
     "data": {
      "text/plain": [
       "[338, 125, 36, 1, 7]"
      ]
     },
     "execution_count": 17,
     "metadata": {},
     "output_type": "execute_result"
    }
   ],
   "source": [
    "list(ss_nltk.vocab().values())[:5]"
   ]
  },
  {
   "cell_type": "code",
   "execution_count": 22,
   "metadata": {},
   "outputs": [
    {
     "data": {
      "text/plain": [
       "0.015748031496062992"
      ]
     },
     "execution_count": 22,
     "metadata": {},
     "output_type": "execute_result"
    }
   ],
   "source": [
    "ss_nltk.vocab().freq('삼성전자')"
   ]
  },
  {
   "cell_type": "code",
   "execution_count": null,
   "metadata": {},
   "outputs": [],
   "source": []
  },
  {
   "cell_type": "code",
   "execution_count": null,
   "metadata": {},
   "outputs": [],
   "source": []
  },
  {
   "cell_type": "code",
   "execution_count": null,
   "metadata": {},
   "outputs": [],
   "source": []
  },
  {
   "cell_type": "markdown",
   "metadata": {},
   "source": [
    "<br></br>\n",
    "# **2 문장의 유사도 측정**\n",
    "\n",
    "## **1 문장요소를 Vector로 변환하기**"
   ]
  },
  {
   "cell_type": "code",
   "execution_count": 13,
   "metadata": {},
   "outputs": [],
   "source": [
    "from sklearn.feature_extraction.text import CountVectorizer\n",
    "vectorizer = CountVectorizer(min_df = 1)\n",
    "contents   = [\"메리랑 사귀고 싶은데 바뻐서 어떻게 하죠?\",\n",
    "              \"메리는 공원에서 휴식을 취하는데 놀기는 싫어해요\",\n",
    "              \"메리는 잠만자서 놀기는 싫어해요 이상해요\",\n",
    "              \"먼 곳으로 여행을 떠나고 싶은데 너무 바빠서 그러질 못하고 있어요\"]"
   ]
  },
  {
   "cell_type": "code",
   "execution_count": 14,
   "metadata": {},
   "outputs": [
    {
     "data": {
      "text/plain": [
       "['곳으로', '공원에서', '그러질', '너무', '놀기는']"
      ]
     },
     "execution_count": 14,
     "metadata": {},
     "output_type": "execute_result"
    }
   ],
   "source": [
    "# 문장객체를 Vector 연산가능 객체로 학습한다\n",
    "X = vectorizer.fit_transform(contents)\n",
    "vectorizer.get_feature_names()[:5]"
   ]
  },
  {
   "cell_type": "code",
   "execution_count": 15,
   "metadata": {},
   "outputs": [
    {
     "data": {
      "text/plain": [
       "[('삼성', 'Noun'), ('전자', 'Noun'), ('의', 'Josa'), ('보고서', 'Noun'), ('는', 'Josa')]"
      ]
     },
     "execution_count": 15,
     "metadata": {},
     "output_type": "execute_result"
    }
   ],
   "source": [
    "from konlpy.tag import Twitter\n",
    "t = Twitter()\n",
    "t.morphs('삼성전자의 보고서는')\n",
    "t.pos('삼성전자의 보고서는')\n",
    "# t.tagset('Adverb')"
   ]
  },
  {
   "cell_type": "code",
   "execution_count": 16,
   "metadata": {},
   "outputs": [
    {
     "data": {
      "text/plain": [
       "[['메리', '랑', '사귀', '고', '싶은', '데', '바뻐', '서', '어떻', '게', '하죠', '?'],\n",
       " ['메리', '는', '공원', '에서', '휴식', '을', '취하는', '데', '놀기', '는', '싫어해', '요'],\n",
       " ['메리', '는', '잠', '만', '자서', '놀기', '는', '싫어해', '요', '이상해', '요'],\n",
       " ['먼',\n",
       "  '곳',\n",
       "  '으로',\n",
       "  '여행',\n",
       "  '을',\n",
       "  '떠나고',\n",
       "  '싶은',\n",
       "  '데',\n",
       "  '너무',\n",
       "  '바빠',\n",
       "  '서',\n",
       "  '그러',\n",
       "  '질',\n",
       "  '못',\n",
       "  '하고',\n",
       "  '있어',\n",
       "  '요']]"
      ]
     },
     "execution_count": 16,
     "metadata": {},
     "output_type": "execute_result"
    }
   ],
   "source": [
    "# 형태소를 근거로 token을 분리한 결과객체를 저장한다\n",
    "\n",
    "contents_tokens = [t.morphs(row)  for row  in contents]\n",
    "# contents_tokens = []\n",
    "# for content in contents:\n",
    "#     tagged = [text_tag[1]   for text_tag in t.pos(content)]\n",
    "#     contents_tokens.append(tagged)\n",
    "\n",
    "contents_tokens"
   ]
  },
  {
   "cell_type": "code",
   "execution_count": 17,
   "metadata": {},
   "outputs": [
    {
     "data": {
      "text/plain": [
       "[' 메리 랑 사귀 고 싶은 데 바뻐 서 어떻 게 하죠 ?',\n",
       " ' 메리 는 공원 에서 휴식 을 취하는 데 놀기 는 싫어해 요',\n",
       " ' 메리 는 잠 만 자서 놀기 는 싫어해 요 이상해 요',\n",
       " ' 먼 곳 으로 여행 을 떠나고 싶은 데 너무 바빠 서 그러 질 못 하고 있어 요']"
      ]
     },
     "execution_count": 17,
     "metadata": {},
     "output_type": "execute_result"
    }
   ],
   "source": [
    "contents_for_vectorize = []\n",
    "for content in contents_tokens:\n",
    "    sentence = ''\n",
    "    # content token 분류된 객체들을 이어서 문장으로 완성한다\n",
    "    for word in content:\n",
    "        sentence = sentence + ' ' + word\n",
    "    contents_for_vectorize.append(sentence)\n",
    "    \n",
    "contents_for_vectorize"
   ]
  },
  {
   "cell_type": "code",
   "execution_count": 18,
   "metadata": {},
   "outputs": [
    {
     "data": {
      "text/plain": [
       "(4, 22)"
      ]
     },
     "execution_count": 18,
     "metadata": {},
     "output_type": "execute_result"
    }
   ],
   "source": [
    "# 4개의 문장 22개의 token \n",
    "X = vectorizer.fit_transform(contents_for_vectorize)\n",
    "num_samples, num_features = X.shape\n",
    "num_samples, num_features"
   ]
  },
  {
   "cell_type": "code",
   "execution_count": 19,
   "metadata": {},
   "outputs": [
    {
     "data": {
      "text/plain": [
       "array([[0, 1, 0, 0],\n",
       "       [0, 0, 0, 1],\n",
       "       [0, 0, 0, 1],\n",
       "       [0, 1, 1, 0],\n",
       "       [0, 0, 0, 1],\n",
       "       [1, 1, 1, 0],\n",
       "       [0, 0, 0, 1],\n",
       "       [1, 0, 0, 0],\n",
       "       [1, 0, 0, 0],\n",
       "       [0, 1, 1, 0],\n",
       "       [1, 0, 0, 1],\n",
       "       [1, 0, 0, 0],\n",
       "       [0, 1, 0, 0],\n",
       "       [0, 0, 0, 1],\n",
       "       [0, 0, 0, 1],\n",
       "       [0, 0, 1, 0],\n",
       "       [0, 0, 0, 1],\n",
       "       [0, 0, 1, 0],\n",
       "       [0, 1, 0, 0],\n",
       "       [0, 0, 0, 1],\n",
       "       [1, 0, 0, 0],\n",
       "       [0, 1, 0, 0]], dtype=int64)"
      ]
     },
     "execution_count": 19,
     "metadata": {},
     "output_type": "execute_result"
    }
   ],
   "source": [
    "X.toarray().transpose()"
   ]
  },
  {
   "cell_type": "code",
   "execution_count": 20,
   "metadata": {},
   "outputs": [
    {
     "data": {
      "text/plain": [
       "[' 메리 랑 휴식 을 취하면 서 사랑 을 나누고 싶어 요']"
      ]
     },
     "execution_count": 20,
     "metadata": {},
     "output_type": "execute_result"
    }
   ],
   "source": [
    "new_post               = ['메리랑 휴식을 취하면서 사랑을 나누고 싶어요']\n",
    "new_post_tokens        = [t.morphs(row)  for row  in new_post ]\n",
    "new_post_for_vectorize = []\n",
    "\n",
    "for content in new_post_tokens:\n",
    "    sentence = ''\n",
    "    for word in content:\n",
    "        sentence = sentence + ' ' + word\n",
    "    new_post_for_vectorize.append(sentence)\n",
    "\n",
    "new_post_for_vectorize"
   ]
  },
  {
   "cell_type": "code",
   "execution_count": 21,
   "metadata": {},
   "outputs": [
    {
     "data": {
      "text/plain": [
       "array([[0, 0, 0, 0, 0, 1, 0, 0, 0, 0, 0, 0, 0, 0, 0, 0, 0, 0, 0, 0, 0, 1]])"
      ]
     },
     "execution_count": 21,
     "metadata": {},
     "output_type": "execute_result"
    }
   ],
   "source": [
    "# 위에서 생성한 새로운 문당을 벡터화 한다\n",
    "new_post_vec = vectorizer.transform(new_post_for_vectorize)\n",
    "new_post_vec.toarray()"
   ]
  },
  {
   "cell_type": "markdown",
   "metadata": {},
   "source": [
    "<br></br>\n",
    "## **2 요소간 거리를 측정한다**"
   ]
  },
  {
   "cell_type": "code",
   "execution_count": 22,
   "metadata": {},
   "outputs": [],
   "source": [
    "import scipy as sp\n",
    "\n",
    "def dist_rwa(v1, v2):\n",
    "    delta = v1 - v2\n",
    "    return sp.linalg.norm(delta.toarray())"
   ]
  },
  {
   "cell_type": "code",
   "execution_count": 23,
   "metadata": {},
   "outputs": [],
   "source": [
    "best_doc = None\n",
    "best_dist = 65535\n",
    "best_i = None"
   ]
  },
  {
   "cell_type": "code",
   "execution_count": 24,
   "metadata": {},
   "outputs": [
    {
     "name": "stdout",
     "output_type": "stream",
     "text": [
      " === Post 0 with dist=2.45 : 메리랑 사귀고 싶은데 바뻐서 어떻게 하죠?\n",
      " === Post 1 with dist=2.24 : 메리는 공원에서 휴식을 취하는데 놀기는 싫어해요\n",
      " === Post 2 with dist=2.24 : 메리는 잠만자서 놀기는 싫어해요 이상해요\n",
      " === Post 3 with dist=3.32 : 먼 곳으로 여행을 떠나고 싶은데 너무 바빠서 그러질 못하고 있어요\n"
     ]
    }
   ],
   "source": [
    "for i in range(0, num_samples):\n",
    "    post_vec = X.getrow(i)\n",
    "    d = dist_rwa(post_vec, new_post_vec)\n",
    "    print(\" === Post {} with dist={:.2f} : {}\".format(i,d,contents[i]))\n",
    "    if d < best_dist:\n",
    "        best_dist = d\n",
    "        best_i = i"
   ]
  },
  {
   "cell_type": "code",
   "execution_count": 25,
   "metadata": {},
   "outputs": [
    {
     "name": "stdout",
     "output_type": "stream",
     "text": [
      "Best post is 1, dist = 2.24 \n",
      " --> ['메리랑 휴식을 취하면서 사랑을 나누고 싶어요'] \n",
      " ----> 먼 곳으로 여행을 떠나고 싶은데 너무 바빠서 그러질 못하고 있어요\n"
     ]
    }
   ],
   "source": [
    "# contents 문장들 중 가장 유사한 sentence 출력하기\n",
    "print(\"Best post is {}, dist = {:.2f} \\n --> {} \\n ----> {}\".format(\n",
    "    best_i, best_dist, \n",
    "    new_post,\n",
    "    contents[i]))"
   ]
  },
  {
   "cell_type": "code",
   "execution_count": 26,
   "metadata": {},
   "outputs": [
    {
     "name": "stdout",
     "output_type": "stream",
     "text": [
      "[[0 0 0 0 0 1 0 1 1 0 1 1 0 0 0 0 0 0 0 0 1 0]] \n",
      " ------------------------------ \n",
      "[[0 0 0 0 0 1 0 0 0 0 0 0 0 0 0 0 0 0 0 0 0 1]]\n",
      "[[1 0 0 1 0 1 0 0 0 1 0 0 1 0 0 0 0 0 1 0 0 1]] \n",
      " ------------------------------ \n",
      "[[0 0 0 0 0 1 0 0 0 0 0 0 0 0 0 0 0 0 0 0 0 1]]\n",
      "[[0 0 0 1 0 1 0 0 0 1 0 0 0 0 0 1 0 1 0 0 0 0]] \n",
      " ------------------------------ \n",
      "[[0 0 0 0 0 1 0 0 0 0 0 0 0 0 0 0 0 0 0 0 0 1]]\n",
      "[[0 1 1 0 1 0 1 0 0 0 1 0 0 1 1 0 1 0 0 1 0 0]] \n",
      " ------------------------------ \n",
      "[[0 0 0 0 0 1 0 0 0 0 0 0 0 0 0 0 0 0 0 0 0 1]]\n"
     ]
    }
   ],
   "source": [
    "# 유사도 검증하기\n",
    "for i in range(0, len(contents)):\n",
    "    print(\"{} \\n ------------------------------ \\n{}\".format(\n",
    "        X.getrow(i).toarray(),\n",
    "        new_post_vec.toarray()))"
   ]
  },
  {
   "cell_type": "code",
   "execution_count": 27,
   "metadata": {},
   "outputs": [],
   "source": [
    "def dist_norm(v1, v2):\n",
    "    v1_normalized = v1 / sp.linalg.norm(v1.toarray())\n",
    "    v2_normalized = v2 / sp.linalg.norm(v2.toarray())\n",
    "    delta = v1_normalized - v2_normalized\n",
    "    return sp.linalg.norm(delta.toarray())"
   ]
  },
  {
   "cell_type": "code",
   "execution_count": 28,
   "metadata": {},
   "outputs": [
    {
     "name": "stdout",
     "output_type": "stream",
     "text": [
      "Best post is 1, dist = 2.24 \n",
      " --> ['메리랑 휴식을 취하면서 사랑을 나누고 싶어요'] \n",
      " ----> 메리는 공원에서 휴식을 취하는데 놀기는 싫어해요\n"
     ]
    }
   ],
   "source": [
    "# contents 문장들 중 가장 유사한 sentence 출력하기\n",
    "print(\"Best post is {}, dist = {:.2f} \\n --> {} \\n ----> {}\".format(\n",
    "    best_i, best_dist, \n",
    "    new_post,\n",
    "    contents[best_i]))"
   ]
  },
  {
   "cell_type": "code",
   "execution_count": 29,
   "metadata": {},
   "outputs": [],
   "source": [
    "def tfidf(t, d, D):\n",
    "    tf = float(d.count(t)) / sum(d.count(w) for w in set(d))\n",
    "    idf = sp.log(float(len(D)) / (len([doc  for doc  in D \n",
    "                                     if  t in doc])))\n",
    "    return tf, idf"
   ]
  },
  {
   "cell_type": "code",
   "execution_count": 30,
   "metadata": {},
   "outputs": [
    {
     "data": {
      "text/plain": [
       "(1.0, 0.0)"
      ]
     },
     "execution_count": 30,
     "metadata": {},
     "output_type": "execute_result"
    }
   ],
   "source": [
    "a, abb, abc = ['a'], ['a','b','b'], ['a','b','c']\n",
    "D = [a, abb, abc]\n",
    "tfidf('a', a, D)"
   ]
  },
  {
   "cell_type": "code",
   "execution_count": 31,
   "metadata": {},
   "outputs": [],
   "source": [
    "from sklearn.feature_extraction.text import TfidfVectorizer\n",
    "vectorizer = TfidfVectorizer(min_df=1, decode_error='ignore')"
   ]
  },
  {
   "cell_type": "code",
   "execution_count": 32,
   "metadata": {},
   "outputs": [],
   "source": [
    "contents_tokens = [t.morphs(row)   for row in contents]\n",
    "contents_for_vectorize = []\n",
    "for content in contents_tokens:\n",
    "    sentence = ''\n",
    "    for word in content:\n",
    "        sentence = sentence + ' ' + word\n",
    "    contents_for_vectorize.append(sentence)"
   ]
  },
  {
   "cell_type": "code",
   "execution_count": 33,
   "metadata": {},
   "outputs": [
    {
     "data": {
      "text/plain": [
       "(4, 22)"
      ]
     },
     "execution_count": 33,
     "metadata": {},
     "output_type": "execute_result"
    }
   ],
   "source": [
    "X = vectorizer.fit_transform(contents_for_vectorize)\n",
    "num_samples, num_features = X.shape\n",
    "num_samples, num_features"
   ]
  },
  {
   "cell_type": "code",
   "execution_count": 34,
   "metadata": {},
   "outputs": [
    {
     "data": {
      "text/plain": [
       "['공원',\n",
       " '그러',\n",
       " '너무',\n",
       " '놀기',\n",
       " '떠나고',\n",
       " '메리',\n",
       " '바빠',\n",
       " '바뻐',\n",
       " '사귀',\n",
       " '싫어해',\n",
       " '싶은',\n",
       " '어떻',\n",
       " '에서',\n",
       " '여행',\n",
       " '으로',\n",
       " '이상해',\n",
       " '있어',\n",
       " '자서',\n",
       " '취하는',\n",
       " '하고',\n",
       " '하죠',\n",
       " '휴식']"
      ]
     },
     "execution_count": 34,
     "metadata": {},
     "output_type": "execute_result"
    }
   ],
   "source": [
    "vectorizer.get_feature_names()"
   ]
  },
  {
   "cell_type": "code",
   "execution_count": 35,
   "metadata": {},
   "outputs": [
    {
     "data": {
      "text/plain": [
       "[' 근처 공원 에 메리 랑 놀 러 가고 싶네 요']"
      ]
     },
     "execution_count": 35,
     "metadata": {},
     "output_type": "execute_result"
    }
   ],
   "source": [
    "new_post = ['근처 공원에 메리랑 놀러가고 싶네요']\n",
    "new_post_tokens = [t.morphs(row)  for row in new_post]\n",
    "new_post_for_vectorize = []\n",
    "\n",
    "for content in new_post_tokens:\n",
    "    sentence = ''\n",
    "    for word in content:\n",
    "        sentence = sentence + ' ' + word\n",
    "        \n",
    "    new_post_for_vectorize.append(sentence)\n",
    "new_post_for_vectorize"
   ]
  }
 ],
 "metadata": {
  "kernelspec": {
   "display_name": "Python 3",
   "language": "python",
   "name": "python3"
  },
  "language_info": {
   "codemirror_mode": {
    "name": "ipython",
    "version": 3
   },
   "file_extension": ".py",
   "mimetype": "text/x-python",
   "name": "python",
   "nbconvert_exporter": "python",
   "pygments_lexer": "ipython3",
   "version": "3.6.3"
  }
 },
 "nbformat": 4,
 "nbformat_minor": 2
}
