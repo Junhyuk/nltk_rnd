{
 "cells": [
  {
   "cell_type": "markdown",
   "metadata": {},
   "source": [
    "<br></br>\n",
    "# **tf-idf**\n",
    "\n",
    "## **1 tf - idf 를 직접 구현하기**\n",
    "사용자 함수를 사용하여 tf-idf 계산하기"
   ]
  },
  {
   "cell_type": "code",
   "execution_count": 1,
   "metadata": {},
   "outputs": [
    {
     "data": {
      "text/plain": [
       "0.1013662770270411"
      ]
     },
     "execution_count": 1,
     "metadata": {},
     "output_type": "execute_result"
    }
   ],
   "source": [
    "# tf-idf 계산을 위한 공식을 사용자가 직접 구현\n",
    "# tf-idf('Token' , '분석 Document' , '모집단 Document 의 Token 목록')\n",
    "\n",
    "from txtutil import tf_idf\n",
    "tf_idf('it', 'it can it it', ['can', 'can', 'can', 'it', 'it', 'it'])"
   ]
  },
  {
   "cell_type": "code",
   "execution_count": 2,
   "metadata": {},
   "outputs": [
    {
     "data": {
      "text/plain": [
       "['i', 'me', 'my', 'myself', 'we', 'our', 'ours', 'ourselves', 'you', \"you're\"]"
      ]
     },
     "execution_count": 2,
     "metadata": {},
     "output_type": "execute_result"
    }
   ],
   "source": [
    "# stopwords 자료를 가져온다\n",
    "from nltk.corpus import stopwords\n",
    "stopwords_eng = stopwords.words('english') +\\\n",
    "                ['samsung','krw','quarter','full','year']\n",
    "stopwords_eng[:10]"
   ]
  },
  {
   "cell_type": "markdown",
   "metadata": {},
   "source": [
    "<br></br>\n",
    "## **2 idf : Docs 대상문서들 목록 추출하기**"
   ]
  },
  {
   "cell_type": "code",
   "execution_count": 3,
   "metadata": {},
   "outputs": [
    {
     "data": {
      "text/plain": [
       "['./data/News2016.txt', './data/News2015.txt', './data/News2017.txt']"
      ]
     },
     "execution_count": 3,
     "metadata": {},
     "output_type": "execute_result"
    }
   ],
   "source": [
    "# Document 자료 불러오기\n",
    "from glob import glob\n",
    "filelist    = glob('./data/News201*.txt')\n",
    "filelist"
   ]
  },
  {
   "cell_type": "code",
   "execution_count": 4,
   "metadata": {},
   "outputs": [
    {
     "data": {
      "text/plain": [
       "['posted', 'trillion', 'consolidated', 'revenue', 'trillion']"
      ]
     },
     "execution_count": 4,
     "metadata": {},
     "output_type": "execute_result"
    }
   ],
   "source": [
    "# Document -> Filtering(Stopwords) -> token 추출\n",
    "import re\n",
    "docs_tokens = []\n",
    "\n",
    "for file in filelist:\n",
    "    with open(file, 'r', encoding='utf-8') as f:\n",
    "        texts = f.read()\n",
    "        \n",
    "    # Document 전처리 작업을 진행\n",
    "    texts     = texts.lower()\n",
    "    texts     = texts.replace('\\n', ' ')\n",
    "    tokenizer = re.compile(r'[a-z]\\w+') # 영단어 추출\n",
    "    tokens    = tokenizer.findall(texts)    \n",
    "    tokens    = [token  for token in tokens   \n",
    "                 if (len(token) > 2) and (token not in stopwords_eng)]\n",
    "    docs_tokens += tokens\n",
    "    \n",
    "docs_tokens[:5]"
   ]
  },
  {
   "cell_type": "code",
   "execution_count": 5,
   "metadata": {},
   "outputs": [
    {
     "data": {
      "text/plain": [
       "demand      85\n",
       "business    80\n",
       "products    66\n",
       "company     63\n",
       "sales       50\n",
       "earnings    49\n",
       "market      47\n",
       "trillion    47\n",
       "new         40\n",
       "growth      40\n",
       "dtype: int64"
      ]
     },
     "execution_count": 5,
     "metadata": {},
     "output_type": "execute_result"
    }
   ],
   "source": [
    "# 추출한 Token의 빈도를 계산\n",
    "from nltk import FreqDist\n",
    "import pandas as pd\n",
    "pd.Series(FreqDist(docs_tokens)).sort_values(ascending=False)[:10]"
   ]
  },
  {
   "cell_type": "markdown",
   "metadata": {},
   "source": [
    "<br></br>\n",
    "## **3 tf : Doc 대상문서에서 Token 추출하기**"
   ]
  },
  {
   "cell_type": "code",
   "execution_count": 6,
   "metadata": {},
   "outputs": [
    {
     "data": {
      "text/plain": [
       "'electronics posted trillion consolidated revenue trillion operating profit fourth overall company reported revenue trillion operating profit trillion fourth earnings driven components business largest contribution coming memory business manufactures dram nand orders high performance memory products '"
      ]
     },
     "execution_count": 6,
     "metadata": {},
     "output_type": "execute_result"
    }
   ],
   "source": [
    "# Step1 : Document 불러오기\n",
    "with open('./data/News2017.txt', 'r', encoding='utf-8') as f:\n",
    "    texts = f.read()\n",
    "    texts = texts.lower()\n",
    "\n",
    "# Step2 : Token 추출\n",
    "texts     = texts.replace('\\n', ' ')\n",
    "tokenizer = re.compile(r'[a-z]\\w+')\n",
    "tokens    = tokenizer.findall(texts)\n",
    "\n",
    "# Step3 : Filtering(stopwords) 알파벳 2글자 이상인 단어를 대상\n",
    "tokens = [token  for token in tokens   \n",
    "                 if (len(token) > 2) and (token not in stopwords_eng)]\n",
    "token_string = \" \".join(tokens)\n",
    "token_string[:300]"
   ]
  },
  {
   "cell_type": "markdown",
   "metadata": {},
   "source": [
    "<br></br>\n",
    "## **4 tf-idf 를 계산**\n",
    "위에서 추출한 idf 정보와, tf 정보를 활용하여 tf-idf를 측정/ 출력한다"
   ]
  },
  {
   "cell_type": "code",
   "execution_count": 7,
   "metadata": {},
   "outputs": [
    {
     "name": "stdout",
     "output_type": "stream",
     "text": [
      "Calculating is Done.\n",
      "CPU times: user 438 ms, sys: 182 µs, total: 438 ms\n",
      "Wall time: 438 ms\n"
     ]
    }
   ],
   "source": [
    "%%time\n",
    "token_set   = list(set(tokens))\n",
    "result_dict = {}\n",
    "\n",
    "# tf-idf 계산결과를 출력한다\n",
    "for txt in token_set:\n",
    "    result_dict[txt] = tf_idf(txt, token_string, docs_tokens)\n",
    "    \n",
    "print('Calculating is Done.')"
   ]
  },
  {
   "cell_type": "code",
   "execution_count": 8,
   "metadata": {},
   "outputs": [
    {
     "data": {
      "text/plain": [
       "product     0.013346\n",
       "business    0.011398\n",
       "demand      0.010724\n",
       "products    0.008768\n",
       "expect      0.008601\n",
       "one         0.008348\n",
       "market      0.008310\n",
       "season      0.007986\n",
       "earnings    0.007957\n",
       "sales       0.007560\n",
       "dtype: float64"
      ]
     },
     "execution_count": 8,
     "metadata": {},
     "output_type": "execute_result"
    }
   ],
   "source": [
    "# tf-idf 결과를 Pandas로 출력\n",
    "import pandas as pd\n",
    "tfidf = pd.Series(result_dict)\n",
    "tfidf.sort_values(ascending=False)[:10]"
   ]
  }
 ],
 "metadata": {
  "kernelspec": {
   "display_name": "Python 3",
   "language": "python",
   "name": "python3"
  },
  "language_info": {
   "codemirror_mode": {
    "name": "ipython",
    "version": 3
   },
   "file_extension": ".py",
   "mimetype": "text/x-python",
   "name": "python",
   "nbconvert_exporter": "python",
   "pygments_lexer": "ipython3",
   "version": "3.6.3"
  }
 },
 "nbformat": 4,
 "nbformat_minor": 2
}
