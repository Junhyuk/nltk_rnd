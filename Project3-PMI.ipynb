{
 "cells": [
  {
   "cell_type": "markdown",
   "metadata": {},
   "source": [
    "<br></br>\n",
    "# **N-gram 의 활용**\n",
    "<br></br>\n",
    "## **1 N-gram 생성하기**"
   ]
  },
  {
   "cell_type": "code",
   "execution_count": 1,
   "metadata": {},
   "outputs": [
    {
     "name": "stdout",
     "output_type": "stream",
     "text": [
      "21463\n"
     ]
    },
    {
     "data": {
      "text/plain": [
       "['삼성전자', '지속가능경영보고서', '보고서', '개요', '삼성전자', '경제사회환경', '가치창']"
      ]
     },
     "execution_count": 1,
     "metadata": {},
     "output_type": "execute_result"
    }
   ],
   "source": [
    "from py.txtutil import txtnoun\n",
    "skip_tokens = ['갤러시', '가치창출']\n",
    "texts = txtnoun('./data/kr-Report_2018.txt', skip=skip_tokens)\n",
    "\n",
    "from nltk.tokenize import word_tokenize\n",
    "tokens = word_tokenize(texts)\n",
    "print(len(tokens))\n",
    "tokens[:7]"
   ]
  },
  {
   "cell_type": "code",
   "execution_count": 2,
   "metadata": {},
   "outputs": [
    {
     "name": "stdout",
     "output_type": "stream",
     "text": [
      "21461\n"
     ]
    },
    {
     "data": {
      "text/plain": [
       "[('삼성전자', '지속가능경영보고서', '보고서'),\n",
       " ('지속가능경영보고서', '보고서', '개요'),\n",
       " ('보고서', '개요', '삼성전자'),\n",
       " ('개요', '삼성전자', '경제사회환경'),\n",
       " ('삼성전자', '경제사회환경', '가치창')]"
      ]
     },
     "execution_count": 2,
     "metadata": {},
     "output_type": "execute_result"
    }
   ],
   "source": [
    "from nltk.util import ngrams\n",
    "\n",
    "texts_sample = [txt for txt in ngrams(tokens, 3)]\n",
    "print(len(texts_sample))\n",
    "texts_sample[:5]"
   ]
  },
  {
   "cell_type": "markdown",
   "metadata": {},
   "source": [
    "<br></br>\n",
    "## **2 Bi-Gram 을 대상으로 한 PMI**\n",
    "**Point wise Mutual Information** 를 측정하여 최상위 우도 10개 값을 추출"
   ]
  },
  {
   "cell_type": "code",
   "execution_count": 3,
   "metadata": {},
   "outputs": [
    {
     "data": {
      "text/plain": [
       "<nltk.collocations.BigramCollocationFinder at 0x7f16d1ecf4a8>"
      ]
     },
     "execution_count": 3,
     "metadata": {},
     "output_type": "execute_result"
    }
   ],
   "source": [
    "from nltk import collocations\n",
    "finder = collocations.BigramCollocationFinder.from_words(tokens)\n",
    "finder"
   ]
  },
  {
   "cell_type": "code",
   "execution_count": 4,
   "metadata": {},
   "outputs": [
    {
     "data": {
      "text/plain": [
       "[('가상', '현실기기'),\n",
       " ('가입', '수방'),\n",
       " ('가정용', '수영장'),\n",
       " ('가정은', '명명'),\n",
       " ('가족대책위원회', '반올림'),\n",
       " ('각막혼탁', '유리체혼탁'),\n",
       " ('간접배출', '국품질재단'),\n",
       " ('감사표시장애인친', '매장서비스'),\n",
       " ('감시', '퇴치'),\n",
       " ('감탄', '데뷔곡')]"
      ]
     },
     "execution_count": 4,
     "metadata": {},
     "output_type": "execute_result"
    }
   ],
   "source": [
    "measures = collocations.BigramAssocMeasures()\n",
    "finder.nbest(measures.pmi, 10)"
   ]
  },
  {
   "cell_type": "markdown",
   "metadata": {},
   "source": [
    "<br></br>\n",
    "## **3 Tri-Gram 을 대상으로한 PMI**"
   ]
  },
  {
   "cell_type": "code",
   "execution_count": 5,
   "metadata": {},
   "outputs": [
    {
     "data": {
      "text/plain": [
       "<nltk.collocations.TrigramCollocationFinder at 0x7f16d1ecf518>"
      ]
     },
     "execution_count": 5,
     "metadata": {},
     "output_type": "execute_result"
    }
   ],
   "source": [
    "finder = collocations.TrigramCollocationFinder.from_words(tokens)\n",
    "finder"
   ]
  },
  {
   "cell_type": "code",
   "execution_count": 6,
   "metadata": {},
   "outputs": [
    {
     "data": {
      "text/plain": [
       "[('가입', '수방', '장구류'),\n",
       " ('가정용', '수영장', '가득'),\n",
       " ('가정은', '명명', '성인'),\n",
       " ('각막혼탁', '유리체혼탁', '굴절장애'),\n",
       " ('감사표시장애인친', '매장서비스', '수화서비스'),\n",
       " ('개발하', '매일', '등교길'),\n",
       " ('개인별', '급여지급', '명세서'),\n",
       " ('거래규모', '과거', '이슈역'),\n",
       " ('거래금액', '증가율', '원가경쟁력'),\n",
       " ('경쟁저해행위', '독과점', '불공정')]"
      ]
     },
     "execution_count": 6,
     "metadata": {},
     "output_type": "execute_result"
    }
   ],
   "source": [
    "measures = collocations.TrigramAssocMeasures()\n",
    "finder.nbest(measures.pmi, 10)"
   ]
  }
 ],
 "metadata": {
  "kernelspec": {
   "display_name": "Python 3",
   "language": "python",
   "name": "python3"
  },
  "language_info": {
   "codemirror_mode": {
    "name": "ipython",
    "version": 3
   },
   "file_extension": ".py",
   "mimetype": "text/x-python",
   "name": "python",
   "nbconvert_exporter": "python",
   "pygments_lexer": "ipython3",
   "version": "3.6.3"
  }
 },
 "nbformat": 4,
 "nbformat_minor": 2
}
