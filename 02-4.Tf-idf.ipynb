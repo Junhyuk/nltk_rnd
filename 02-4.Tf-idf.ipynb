{
 "cells": [
  {
   "cell_type": "markdown",
   "metadata": {},
   "source": [
    "<br></br>\n",
    "# **tf-idf**\n",
    "\n",
    "## **1 데이터 불러오기**\n",
    "[**연간 기업결과 리포트**](https://news.samsung.com/global/samsung-electronics-announces-fourth-quarter-and-fy-2017-results)"
   ]
  },
  {
   "cell_type": "code",
   "execution_count": null,
   "metadata": {},
   "outputs": [],
   "source": [
    "# 2017년 연간결산 리포트\n",
    "f     = open('./data/News2017.txt', 'r', encoding='utf-8')\n",
    "texts = f.read()\n",
    "texts = texts.lower()\n",
    "f.close()"
   ]
  },
  {
   "cell_type": "code",
   "execution_count": null,
   "metadata": {},
   "outputs": [],
   "source": [
    "from nltk.tokenize import RegexpTokenizer\n",
    "re_capt = RegexpTokenizer(r'[a-z]\\w+')\n",
    "token   = re_capt.tokenize(texts)\n",
    "token[:5]"
   ]
  },
  {
   "cell_type": "code",
   "execution_count": null,
   "metadata": {},
   "outputs": [],
   "source": [
    "from nltk.corpus import stopwords\n",
    "stopwords_eng = stopwords.words('english') +\\\n",
    "                ['samsung','krw','quarter','full','year']\n",
    "stopwords_eng[:10]"
   ]
  },
  {
   "cell_type": "code",
   "execution_count": null,
   "metadata": {},
   "outputs": [],
   "source": [
    "texts = [txt    for txt in token   \n",
    "                if txt not in stopwords_eng]\n",
    "\n",
    "from nltk import FreqDist\n",
    "import pandas as pd\n",
    "token      = FreqDist(texts)\n",
    "token_freq = pd.Series(token).sort_values(ascending=False)\n",
    "token_freq[:10]"
   ]
  },
  {
   "cell_type": "code",
   "execution_count": null,
   "metadata": {},
   "outputs": [],
   "source": [
    "document = ' '.join(texts)\n",
    "document[:500]"
   ]
  },
  {
   "cell_type": "markdown",
   "metadata": {},
   "source": [
    "<br></br>\n",
    "## **2 tf idf**\n",
    "연설문내 단어들의 빈도를 재조정"
   ]
  },
  {
   "cell_type": "code",
   "execution_count": null,
   "metadata": {},
   "outputs": [],
   "source": [
    "# ! pip3 install sklearn"
   ]
  },
  {
   "cell_type": "code",
   "execution_count": null,
   "metadata": {},
   "outputs": [],
   "source": [
    "# ! pip3 install scipy"
   ]
  },
  {
   "cell_type": "code",
   "execution_count": null,
   "metadata": {},
   "outputs": [],
   "source": [
    "import numpy as np\n",
    "from sklearn.feature_extraction.text import TfidfVectorizer\n",
    "tfidf_vec   = TfidfVectorizer(stop_words='english')\n",
    "transformed = tfidf_vec.fit_transform(raw_documents = [document])\n",
    "transformed = np.array(transformed.todense())\n",
    "transformed\n",
    "# tfidf_vec.vocabulary_"
   ]
  },
  {
   "cell_type": "code",
   "execution_count": null,
   "metadata": {},
   "outputs": [],
   "source": [
    "index_value   = {i[1]:i[0] for i in tfidf_vec.vocabulary_.items()}\n",
    "fully_indexed = {index_value[column]:value  for row in transformed  \n",
    "                                            for (column,value) in enumerate(row)}\n",
    "\n",
    "token_tfidf = pd.Series(fully_indexed).sort_values(ascending=False)\n",
    "token_tfidf[:10]"
   ]
  },
  {
   "cell_type": "markdown",
   "metadata": {},
   "source": [
    "<br></br>\n",
    "## **3 tf - idf 를 직접 구현하기**\n",
    "사용자 함수를 사용하여 tf-idf 계산하기"
   ]
  },
  {
   "cell_type": "code",
   "execution_count": null,
   "metadata": {},
   "outputs": [],
   "source": [
    "# Docs 의 list 목록을 만드는게 우선 일이다\n",
    "from txtutil import tf_idf\n",
    "tf_idf('it', 'it can it it', ['can', 'can','can', 'it', 'it', 'it' ])"
   ]
  },
  {
   "cell_type": "markdown",
   "metadata": {},
   "source": [
    "### **1) Docs 대상문서들 목록 추출하기**"
   ]
  },
  {
   "cell_type": "code",
   "execution_count": null,
   "metadata": {},
   "outputs": [],
   "source": [
    "stopwords_eng[:10]"
   ]
  },
  {
   "cell_type": "code",
   "execution_count": null,
   "metadata": {},
   "outputs": [],
   "source": [
    "import re\n",
    "from glob import glob\n",
    "filelist    = glob('./data/News201*.txt')\n",
    "\n",
    "docs_tokens = []\n",
    "for file in filelist:\n",
    "    f     = open(file, 'r', encoding='utf-8')\n",
    "    texts = f.read()\n",
    "    f.close()\n",
    "    texts = texts.lower()\n",
    "    texts = texts.replace('\\n', ' ')\n",
    "    tokenizer = re.compile(r'[a-z]\\w+') # 영단어 추출\n",
    "    tokens    = tokenizer.findall(texts)    \n",
    "    tokens    = [token  for token in tokens   \n",
    "                 if (len(token) > 2) and (token not in stopwords_eng)]\n",
    "    docs_tokens += tokens"
   ]
  },
  {
   "cell_type": "code",
   "execution_count": null,
   "metadata": {},
   "outputs": [],
   "source": [
    "filelist"
   ]
  },
  {
   "cell_type": "code",
   "execution_count": null,
   "metadata": {},
   "outputs": [],
   "source": [
    "from nltk import FreqDist\n",
    "import pandas as pd\n",
    "pd.Series(FreqDist(docs_tokens))[:5]"
   ]
  },
  {
   "cell_type": "markdown",
   "metadata": {},
   "source": [
    "### **2) Doc 대상문서에서 Token 추출하기**"
   ]
  },
  {
   "cell_type": "code",
   "execution_count": null,
   "metadata": {},
   "outputs": [],
   "source": [
    "# 분석할 대상 데이터\n",
    "f     = open('./data/News2016.txt', 'r', encoding='utf-8')\n",
    "texts = f.read()\n",
    "texts = texts.lower()\n",
    "f.close()\n",
    "texts = texts.replace('\\n', ' ')\n",
    "tokenizer = re.compile(r'[a-z]\\w+') # 영문 데이터를 추출\n",
    "tokens = tokenizer.findall(texts)\n",
    "\n",
    "# 알파벳 2글자 이상인 단어를 대상으로 연산을 진행한다\n",
    "tokens = [token  for token in tokens   \n",
    "                 if (len(token) > 2) and (token not in stopwords_eng)]\n",
    "\n",
    "token_string = \" \".join(tokens)\n",
    "token_string[:70]"
   ]
  },
  {
   "cell_type": "code",
   "execution_count": null,
   "metadata": {},
   "outputs": [],
   "source": [
    "%%time\n",
    "from txtutil import tf_idf\n",
    "token_set = list(set(tokens))\n",
    "\n",
    "result_dict = {}\n",
    "for txt in token_set:\n",
    "    result_dict[txt] = tf_idf(txt, token_string, docs_tokens)\n",
    "print('Calculating is Done.')"
   ]
  },
  {
   "cell_type": "code",
   "execution_count": null,
   "metadata": {},
   "outputs": [],
   "source": [
    "# 생성한 TF-IDF 결과를 Pandas로 출력\n",
    "import pandas as pd\n",
    "tfidf = pd.Series(result_dict)\n",
    "tfidf.sort_values(ascending=False)[:20]"
   ]
  }
 ],
 "metadata": {
  "kernelspec": {
   "display_name": "Python 3",
   "language": "python",
   "name": "python3"
  },
  "language_info": {
   "codemirror_mode": {
    "name": "ipython",
    "version": 3
   },
   "file_extension": ".py",
   "mimetype": "text/x-python",
   "name": "python",
   "nbconvert_exporter": "python",
   "pygments_lexer": "ipython3",
   "version": "3.6.3"
  }
 },
 "nbformat": 4,
 "nbformat_minor": 2
}
