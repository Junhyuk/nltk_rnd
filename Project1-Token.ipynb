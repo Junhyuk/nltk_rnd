{
 "cells": [
  {
   "cell_type": "markdown",
   "metadata": {},
   "source": [
    "# **삼성전자 지속가능 경영 보고서**\n",
    "1. [삼성전자 보고서 PDF](https://images.samsung.com/is/content/samsung/p5/sec/aboutsamsung/2018/pdf/SustainabilityReport_2018_kr.pdf)\n",
    "1. 02-3.Stopwords.ipynb (3.지속성장 보고서 불용어 추출)"
   ]
  },
  {
   "cell_type": "code",
   "execution_count": null,
   "metadata": {},
   "outputs": [],
   "source": [
    "# 2018년 지속가능 경영 보고서 불러오기\n",
    "f     = open('./data/kr-Report_2018.txt', 'r', encoding='utf-8')\n",
    "texts = f.read()\n",
    "f.close()\n",
    "texts[:70]"
   ]
  },
  {
   "cell_type": "code",
   "execution_count": null,
   "metadata": {},
   "outputs": [],
   "source": [
    "# Step 1 - 한글 Tokens 를 생성하기\n",
    "# 불러온 텍스트 내용 중 한글만 추출하여 Token 만들기\n",
    "\n",
    "#from nltk.tokenize import RegexpTokenizer\n",
    "import re"
   ]
  },
  {
   "cell_type": "code",
   "execution_count": null,
   "metadata": {},
   "outputs": [],
   "source": [
    "# Step 2 - Token 별 포함된 복합명사를 1개의 단어로 추출하기\n",
    "\n",
    "# Token 단위별\n",
    "# Twitter() 모듈을 활용하여 포함된 명사목록을\n",
    "# 1개의 단어로 묶어서 출력\n",
    "\n",
    "from konlpy.tag import Twitter\n",
    "twitter = Twitter()\n",
    "twitter.pos('삼성전자\\n지속가능경영보고서\\n', stem=True)\n",
    "\n",
    "# ex) twitter.pos('환경가능보고서에서는 삼성전자를')\n",
    "# ====>  '환경가능보고서', '삼성전자'"
   ]
  },
  {
   "cell_type": "code",
   "execution_count": null,
   "metadata": {},
   "outputs": [],
   "source": [
    "# Step 3 - FreqDist 를 활용하여 위에서 추출한 복합명사들 빈도출력 해보기\n",
    "\n",
    "from nltk import FreqDist"
   ]
  },
  {
   "cell_type": "code",
   "execution_count": null,
   "metadata": {},
   "outputs": [],
   "source": [
    "# Step 4 - Token 을 text로 묶어서 1개의 객체로 생성하기\n",
    "# ['환경가능보고서', '삼성전자', '갤럭시노트']\n",
    "# ===> '환경가능보고서 삼성전자 갤럭시노트'\n",
    "\n",
    "\"\".join(['서울', 'R&D', '캠퍼스'])"
   ]
  },
  {
   "cell_type": "code",
   "execution_count": null,
   "metadata": {},
   "outputs": [],
   "source": [
    "# Step 5 - wordcloud 로 결과를 출력하기\n",
    "%matplotlib inline\n",
    "from wordcloud import WordCloud\n",
    "wcloud = WordCloud('./data/D2Coding.ttf',\n",
    "                   relative_scaling = 0.2,\n",
    "                   background_color = 'white').generate(texts) # (\" \".join(texts))\n",
    "\n",
    "import matplotlib.pyplot as plt\n",
    "plt.figure(figsize=(12,12))\n",
    "plt.imshow(wcloud, interpolation='bilinear')\n",
    "plt.axis(\"off\")"
   ]
  }
 ],
 "metadata": {
  "kernelspec": {
   "display_name": "Python 3",
   "language": "python",
   "name": "python3"
  },
  "language_info": {
   "codemirror_mode": {
    "name": "ipython",
    "version": 3
   },
   "file_extension": ".py",
   "mimetype": "text/x-python",
   "name": "python",
   "nbconvert_exporter": "python",
   "pygments_lexer": "ipython3",
   "version": "3.6.3"
  }
 },
 "nbformat": 4,
 "nbformat_minor": 2
}
